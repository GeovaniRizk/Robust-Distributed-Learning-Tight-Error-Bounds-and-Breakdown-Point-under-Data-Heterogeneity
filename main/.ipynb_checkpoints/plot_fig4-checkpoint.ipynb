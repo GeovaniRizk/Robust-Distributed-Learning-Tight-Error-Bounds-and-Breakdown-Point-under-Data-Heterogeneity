{
 "cells": [
  {
   "cell_type": "code",
   "execution_count": null,
   "id": "e84a1f2f",
   "metadata": {},
   "outputs": [],
   "source": [
    "import numpy as np\n",
    "import torch\n",
    "import matplotlib.pyplot as plt\n",
    "import csv\n",
    "import os\n",
    "from os import listdir\n",
    "from numpy import genfromtxt, savetxt\n",
    "plt.rcParams.update({'font.size': 12})"
   ]
  },
  {
   "cell_type": "code",
   "execution_count": null,
   "id": "b8c68077",
   "metadata": {
    "scrolled": true
   },
   "outputs": [],
   "source": [
    "tab_f = np.arange(20)\n",
    "tab_attack = ['SF', 'FOE', 'ALIE', 'mimic']\n",
    "tab_attack_name = ['SF', 'FOE', 'ALIE', 'mimic']\n",
    "tab_sign = ['-', '--', '-.', ':', 'dashdotdotted' '-', '-', '-']\n",
    "colors = [(0, 0.4470, 0.7410), (0.8500, 0.3250, 0.0980), (0.4660, 0.6740, 0.1880), (60/255,60/255, 60/255)]\n",
    "markers = ['v','^','<','>','s','+', 'o']\n",
    "nb_runs = 5\n",
    "steps = 10\n",
    "T = 40001\n",
    "\n",
    "tab_losses = np.zeros((len(tab_f), len(tab_attack), T))\n",
    "for i, f in enumerate(tab_f):\n",
    "    for j, attack in enumerate(tab_attack):\n",
    "        if f == 0 and j > 0:\n",
    "            tab_losses[i][j] = tab_losses[i][0]\n",
    "        else :\n",
    "            tab_losses[i][j] = genfromtxt('./save_fig4/Losses_'+str(f)+'_'+attack+'.csv', delimiter=',')\n",
    "#         print(f, attack)\n"
   ]
  },
  {
   "cell_type": "code",
   "execution_count": null,
   "id": "9c52cb55",
   "metadata": {},
   "outputs": [],
   "source": [
    "def grad_function(theta, X, y, lbda):\n",
    "    return np.reshape((X.T @ X /len(X) + config['lbda'] * np.eye(d)) @  theta, (-1,1)) - (X.T @ np.reshape(y, (-1,1)))/len(X)"
   ]
  },
  {
   "cell_type": "code",
   "execution_count": null,
   "id": "a60adc3d",
   "metadata": {},
   "outputs": [],
   "source": [
    "theta_star = genfromtxt('./save_fig4/theta_star.csv', delimiter=',')\n",
    "\n",
    "sum_norm_theta = genfromtxt('./save_fig4/sum_norm_theta_star.csv', delimiter=',')\n",
    "\n",
    "loss_star = genfromtxt('./save_fig4/loss_star.csv', delimiter=',')\n",
    "L_mu = genfromtxt('./save_fig4/L_mu.csv', delimiter=',')\n",
    "kappas = genfromtxt('./save_fig4/Kappas_.csv', delimiter=',')\n",
    "\n",
    "L = L_mu[0]\n",
    "mu = L_mu[1]\n",
    "\n",
    "print(L, mu)\n",
    "\n",
    "tab_RHS = []\n",
    "L_0 = tab_losses[0,0,0]\n",
    "for f in range(20):\n",
    "    n = 20 + f\n",
    "    kappa = f/(n-2*f)\n",
    "    RHS = (3 * kappas[f] / mu) * sum_norm_theta + np.exp(-(mu/(3*L))*T) * (L_0 - loss_star)\n",
    "    tab_RHS.append(RHS)"
   ]
  },
  {
   "cell_type": "code",
   "execution_count": null,
   "id": "76216e42",
   "metadata": {},
   "outputs": [],
   "source": [
    "frac = np.arange(1,20)/np.arange(21,40)\n",
    "\n",
    "\n",
    "fig, axes = plt.subplots()\n",
    "for b in range(len(tab_attack)):\n",
    "    axes.plot(frac, np.min(tab_losses[:,b, :], axis = 1)[1:]-loss_star, label=tab_attack[b], linestyle = tab_sign[b], linewidth=2, color = colors[b])\n",
    "axes.plot(frac, tab_RHS[1:], linewidth=2, linestyle = (0, (3, 1, 1, 1, 1, 1)) , label='Our upper bound', color = 'orange')\n",
    "plt.grid()\n",
    "\n",
    "lines = axes.get_lines()\n",
    "legend1 = plt.legend([lines[i] for i in [0,1,2,3]], tab_attack_name, loc='best')\n",
    "legend2 = plt.legend([lines[i] for i in [4]], ['Our upper bound'], loc='best')\n",
    "axes.add_artist(legend1)\n",
    "axes.add_artist(legend2)\n",
    "\n",
    "plt.xlabel('Fraction of Byzantine workers')\n",
    "plt.ylabel('Best error gap over 40000 steps')\n",
    "plt.yscale('log')\n",
    "plt.xlim(frac[0],frac[-1])\n",
    "plt.savefig('tmp.pdf')"
   ]
  }
 ],
 "metadata": {
  "kernelspec": {
   "display_name": "Python 3 (ipykernel)",
   "language": "python",
   "name": "python3"
  },
  "language_info": {
   "codemirror_mode": {
    "name": "ipython",
    "version": 3
   },
   "file_extension": ".py",
   "mimetype": "text/x-python",
   "name": "python",
   "nbconvert_exporter": "python",
   "pygments_lexer": "ipython3",
   "version": "3.9.13"
  }
 },
 "nbformat": 4,
 "nbformat_minor": 5
}
