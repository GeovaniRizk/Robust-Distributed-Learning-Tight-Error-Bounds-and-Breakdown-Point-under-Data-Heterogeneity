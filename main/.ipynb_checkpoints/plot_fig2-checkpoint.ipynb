{
 "cells": [
  {
   "cell_type": "code",
   "execution_count": null,
   "id": "7fb89ac0",
   "metadata": {},
   "outputs": [],
   "source": [
    "import numpy as np\n",
    "import torch\n",
    "import matplotlib.pyplot as plt\n",
    "import csv\n",
    "import os\n",
    "from os import listdir\n",
    "from numpy import genfromtxt\n",
    "plt.rcParams.update({'font.size': 12})"
   ]
  },
  {
   "cell_type": "code",
   "execution_count": null,
   "id": "9306ae8c",
   "metadata": {},
   "outputs": [],
   "source": [
    "tab_f = np.array([0,1,2,3,4,5,6,7,8,9])\n",
    "n = np.array([10,11,12,13,14,15,16,17,18,19])\n",
    "aggs = ['', '_krum', '_median', '_geometric_median']\n",
    "tab_sign = ['-', '--', '-.', '-.']\n",
    "markers = ['v','s','^', 'o']\n",
    "colors = [(120/255,120/255, 120/255), (0, 0.4470, 0.7410), (0.8500, 0.3250, 0.0980), (0.4660, 0.6740, 0.1880)]\n",
    "\n",
    "\n",
    "tab_accuracies = np.zeros((len(tab_f),4, 500))\n",
    "tab_losses = np.zeros((len(tab_f), 4, 500))\n",
    "for i, f in enumerate(tab_f):\n",
    "    for j in range(len(aggs)):\n",
    "        tab_accuracies[i][j] = genfromtxt('./save_fig2/data/Accuracies_0_'+str(f)+aggs[j]+'.csv', delimiter=',')\n",
    "        tab_losses[i][j] = genfromtxt('./save_fig2/xdata/Losses_0_'+str(f)+aggs[j]+'.csv', delimiter=',')\n",
    "#     plt.plot(np.arange(500), tab_losses[i])\n",
    "initial_accuracy = tab_losses[-1][-1][0]\n",
    "print(initial_accuracy)\n",
    "\n",
    "plt.axhline(y = initial_accuracy, color = 'grey', linewidth=0.5, linestyle='-')\n",
    "plt.axvline(x = 3/13, color = (0.8, 0, 0), linewidth=2, linestyle='dashed')\n",
    "\n",
    "aggs_names = ['CW Trimmed Mean', 'Krum', 'CW Median', 'Geometric Median']\n",
    "\n",
    "aggs[0]= '_SF'\n",
    "for j in range(0,len(aggs)):\n",
    "    print(tab_losses[-1][j][0])\n",
    "    tab = np.min(tab_losses[:,j,:], axis = 1)\n",
    "    plt.plot(tab_f/n, tab , label = aggs_names[j], linewidth=2, linestyle='-', marker = markers[j], markersize = 6, color= colors[j])\n",
    "plt.grid()\n",
    "plt.xlabel('Fraction of byzantine workers')\n",
    "plt.xlim(0,0.5)\n",
    "plt.ylabel('Best training loss over 500 steps', labelpad=0)\n",
    "plt.yticks([0.5, 1, 1.5, 2, initial_accuracy, 2.5], [0.5, 1, 1.5, 2, 'initial\\nloss\\nvalue', 2.5])\n",
    "plt.legend()\n",
    "plt.savefig('fig2_a.pdf')"
   ]
  },
  {
   "cell_type": "code",
   "execution_count": null,
   "id": "5c9abd14",
   "metadata": {},
   "outputs": [],
   "source": [
    "tab_f = np.array([0,1,2,3,4,5,6,7,8,9])\n",
    "n = np.array([10,11,12,13,14,15,16,17,18,19])\n",
    "aggs = ['', '_krum', '_median', '_geometric_median']\n",
    "tab_sign = ['-', '--', '-.', '-.']\n",
    "markers = ['v','s','^', 'o']\n",
    "colors = [(120/255,120/255, 120/255), (0, 0.4470, 0.7410), (0.8500, 0.3250, 0.0980), (0.4660, 0.6740, 0.1880)]\n",
    "\n",
    "\n",
    "tab_accuracies = np.zeros((len(tab_f),4, 500))\n",
    "tab_losses = np.zeros((len(tab_f), 4, 500))\n",
    "for i, f in enumerate(tab_f):\n",
    "    for j in range(len(aggs)):\n",
    "        tab_accuracies[i][j] = genfromtxt('./save_fig2data/Accuracies_0_'+str(f)+aggs[j]+'.csv', delimiter=',')\n",
    "        tab_losses[i][j] = genfromtxt('./save_fig2data/Losses_0_'+str(f)+aggs[j]+'.csv', delimiter=',')\n",
    "initial_accuracy = tab_losses[-1][-1][0]\n",
    "\n",
    "plt.axvline(x = 3/13, color = (0.8, 0, 0), linewidth=2, linestyle='dashed')\n",
    "\n",
    "aggs_names = ['CW Trimmed Mean', 'Krum', 'CW Median', 'Geometric Median']\n",
    "\n",
    "aggs[0]= '_SF'\n",
    "for j in range(0,len(aggs)):\n",
    "    tab = tab_accuracies[:,j,-1]\n",
    "    plt.plot(tab_f/n, tab, label = aggs_names[j], linewidth=2, linestyle='-', marker = markers[j], markersize = 6, color= colors[j])\n",
    "plt.grid()\n",
    "plt.xlabel('Fraction of byzantine workers')\n",
    "plt.xlim(0,0.5)\n",
    "plt.ylabel('Accuracy')\n",
    "plt.legend()\n",
    "plt.savefig('fig2_b.pdf')"
   ]
  }
 ],
 "metadata": {
  "kernelspec": {
   "display_name": "Python 3 (ipykernel)",
   "language": "python",
   "name": "python3"
  },
  "language_info": {
   "codemirror_mode": {
    "name": "ipython",
    "version": 3
   },
   "file_extension": ".py",
   "mimetype": "text/x-python",
   "name": "python",
   "nbconvert_exporter": "python",
   "pygments_lexer": "ipython3",
   "version": "3.9.13"
  }
 },
 "nbformat": 4,
 "nbformat_minor": 5
}
