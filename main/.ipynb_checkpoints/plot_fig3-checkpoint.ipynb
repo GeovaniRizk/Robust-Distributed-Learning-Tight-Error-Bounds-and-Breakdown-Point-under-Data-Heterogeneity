{
 "cells": [
  {
   "cell_type": "code",
   "execution_count": null,
   "id": "7fb89ac0",
   "metadata": {},
   "outputs": [],
   "source": [
    "import numpy as np\n",
    "import torch\n",
    "import matplotlib.pyplot as plt\n",
    "import csv\n",
    "import os\n",
    "from os import listdir\n",
    "from numpy import genfromtxt\n",
    "plt.rcParams.update({'font.size': 12})"
   ]
  },
  {
   "cell_type": "code",
   "execution_count": null,
   "id": "9306ae8c",
   "metadata": {},
   "outputs": [],
   "source": [
    "error_ours = genfromtxt('./save_fig3/error_ours.csv', delimiter=',')\n",
    "error_old = genfromtxt('./save_fig3/error_old.csv', delimiter=',')\n",
    "print(error_ours)\n",
    "colors = [(120/255,120/255, 120/255), (0, 0.4470, 0.7410), (0.8500, 0.3250, 0.0980), (0.4660, 0.6740, 0.1880)]\n",
    "\n",
    "f = np.arange(1,10)\n",
    "n = f + 10\n",
    "\n",
    "plt.plot(f/n, error_old, linewidth=2, linestyle = '-.', marker='^', markersize=6, color = colors[2],label='Upper bound with G-dissimilarity')\n",
    "plt.plot(f/n, error_ours, linewidth=2, linestyle = '-', marker='s', markersize=6, color = colors[1], label='Our upper bound with (G,B)-dissimilarity')\n",
    "\n",
    "plt.legend()\n",
    "plt.grid()\n",
    "plt.xlim(1/11,9/19)\n",
    "plt.ylabel('Error')\n",
    "plt.xlabel('Fraction of byzantine workers')\n",
    "plt.savefig('G_B_sampling.pdf')"
   ]
  }
 ],
 "metadata": {
  "kernelspec": {
   "display_name": "Python 3 (ipykernel)",
   "language": "python",
   "name": "python3"
  },
  "language_info": {
   "codemirror_mode": {
    "name": "ipython",
    "version": 3
   },
   "file_extension": ".py",
   "mimetype": "text/x-python",
   "name": "python",
   "nbconvert_exporter": "python",
   "pygments_lexer": "ipython3",
   "version": "3.9.13"
  }
 },
 "nbformat": 4,
 "nbformat_minor": 5
}
