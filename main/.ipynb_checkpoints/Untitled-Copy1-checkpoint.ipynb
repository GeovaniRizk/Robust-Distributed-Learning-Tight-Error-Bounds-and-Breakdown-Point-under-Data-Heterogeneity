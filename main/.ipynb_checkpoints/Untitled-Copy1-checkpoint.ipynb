{
 "cells": [
  {
   "cell_type": "code",
   "execution_count": 26,
   "id": "4387c231",
   "metadata": {},
   "outputs": [],
   "source": [
    "import torch\n",
    "import torchvision\n",
    "import torchvision.transforms as transforms\n",
    "import Dataset\n",
    "import copy\n",
    "import torch.multiprocessing as mp\n",
    "import model\n",
    "import numpy as np\n",
    "import time\n",
    "from worker import Worker\n",
    "from server import Server\n",
    "import random\n",
    "import attacks\n",
    "import sys\n",
    "import aggregators\n",
    "import visualization\n",
    "from numpy import savetxt\n",
    "import test\n",
    "import os\n",
    "import json\n",
    "import matplotlib.pyplot as plt"
   ]
  },
  {
   "cell_type": "code",
   "execution_count": 2,
   "id": "9eed82f5",
   "metadata": {},
   "outputs": [
    {
     "name": "stdout",
     "output_type": "stream",
     "text": [
      "298\n",
      "[ True  True False  True  True  True  True  True  True  True  True  True\n",
      "  True  True  True  True  True  True  True  True False  True  True  True\n",
      "  True  True  True False  True  True  True  True False  True  True False\n",
      "  True False  True  True  True  True  True False  True  True  True False\n",
      "  True  True False  True  True  True  True  True  True  True  True  True\n",
      " False  True  True  True  True  True  True False  True  True  True False\n",
      "  True  True  True  True  True  True  True  True  True False  True False\n",
      "  True False False  True  True  True  True  True  True False  True  True\n",
      "  True  True  True  True False  True  True  True  True False  True  True\n",
      "  True False  True  True  True  True  True False  True  True  True False\n",
      "  True  True  True  True False False False  True False  True  True  True\n",
      "  True  True  True  True  True False  True  True False False  True False\n",
      "  True  True  True  True  True  True False  True  True  True  True  True\n",
      " False  True  True  True  True  True  True  True  True  True  True  True\n",
      "  True  True  True False  True  True  True  True  True  True  True  True\n",
      "  True False  True False  True  True False False  True  True  True  True\n",
      "  True  True  True  True False  True  True  True  True  True  True False\n",
      "  True  True  True  True  True False  True  True  True  True  True  True\n",
      "  True  True  True False  True False  True  True False  True  True  True\n",
      "  True  True  True  True  True False  True  True  True  True  True  True\n",
      "  True  True  True  True  True  True  True False False  True  True  True\n",
      "  True  True False  True False  True False  True  True  True  True  True\n",
      "  True False  True  True False False  True  True False  True  True  True\n",
      "  True  True  True  True False False  True  True  True  True  True False\n",
      "  True  True False False  True  True  True False  True  True]\n",
      "[1092, 923, 921, 1050, 972, 993, 1117, 1090, 987, 1165, 1188, 1027, 1008, 1151, 955, 1039, 908, 979, 1182, 1103, 1118, 1096, 1016, 942, 1119, 1067, 1061, 1021, 1140, 1062, 954, 941, 1083, 1086, 1127, 1150, 928, 1000, 968, 994, 1107, 1070, 1042, 1088, 1178, 1064, 920, 977, 1135, 934, 1166, 1047, 907, 1132, 1124, 1133, 1162, 1098, 1097, 1146, 924, 1054, 935, 1122, 991, 1164, 995, 1121, 958, 1154, 953, 967, 971, 1094, 1022, 1138, 1144, 902, 975, 1069, 1031, 1091, 1172, 1056, 938, 1131, 1115, 989, 1078, 903, 914, 986, 1087, 1012, 1161, 959, 1126, 1152, 906, 919, 1009, 1147, 1176, 990, 1040, 1072, 1169, 1023, 1053, 949, 1142, 940, 1002, 1051, 1116, 918, 1081, 1158, 1044, 1108, 970, 1020, 1102, 996, 1034, 1032, 946, 1085, 1145, 910, 1137, 1148, 1024, 1171, 1076, 1025, 1011, 1071, 982, 1035, 909, 1015, 1197, 1185, 1063, 939, 1109, 1180, 984, 1187, 1057, 1101, 1060, 1192, 1106, 998, 1082, 901, 937, 1099, 965, 1153, 1110, 913, 1159, 900, 992, 1190, 929, 1055, 1048, 960, 931, 1160, 1073, 1006, 1005, 1068, 1104, 904, 1112, 1129, 1013, 905, 976, 1003, 1058, 1136, 925, 945, 963, 1194, 1033, 1028, 1143, 915, 981, 1193, 1059, 932, 1114, 1046, 1030, 1141, 1177, 1041, 1170, 1079, 980, 1139, 1113, 1066, 1149, 1093, 962, 1199, 1181, 1045, 950, 1173, 1191, 1198, 944, 917, 1004, 964, 1065, 1125, 1105, 1272, 1239, 1351, 1395, 1371, 1316, 1313, 1370, 1212, 1206, 1288, 1339, 1356, 1277, 1240, 1387, 1373, 1379, 1482, 1306, 1265, 1297, 1481, 1492, 1280, 1234, 1391, 1258, 1486, 1222, 1428, 1318, 1490, 1311, 1223, 1477, 1476, 1294, 1475, 1291, 1405, 1384, 1338, 1443, 1439, 1208, 1407, 1478, 1270, 1314, 1411, 1312, 1329, 1386, 1438, 1410, 1381, 1646, 1559, 1731, 1608, 1721, 1562, 1760, 1596, 1572, 1634, 1617, 1750]\n",
      "tensor([ 47,  86, 224, 128, 124,  85, 287, 221,  32,  50, 256, 219, 280,  60,\n",
      "         35, 269, 100,  20,  67, 105, 186, 187, 265, 290, 268,  37, 248, 126,\n",
      "        272, 119, 196, 254, 233,  43, 141,  71, 171,  27,  93, 203, 140, 291,\n",
      "        150, 209,  81, 156, 137, 109, 295, 143, 183, 125,   2,  83, 258, 281,\n",
      "        115, 247, 181])\n",
      "298\n",
      "[ True  True  True  True  True  True  True False  True  True  True False\n",
      "  True  True False False  True  True  True False  True  True False  True\n",
      "  True  True False  True  True  True  True  True  True  True  True  True\n",
      " False  True  True  True  True  True False  True  True  True  True  True\n",
      " False  True  True  True  True  True  True  True  True  True  True  True\n",
      "  True  True False  True  True False  True  True  True  True False False\n",
      "  True False  True  True False  True  True  True  True  True  True  True\n",
      "  True  True False  True  True  True  True  True  True False False  True\n",
      " False  True  True  True  True  True  True  True False  True  True False\n",
      "  True False  True  True  True  True  True  True  True  True False  True\n",
      "  True  True  True  True  True  True  True  True False False  True  True\n",
      "  True  True  True  True  True  True  True  True  True  True  True  True\n",
      "  True False  True  True  True  True  True  True  True  True  True  True\n",
      "  True  True  True False  True  True  True False  True  True  True  True\n",
      "  True False  True  True  True  True  True  True  True  True  True  True\n",
      "  True  True  True  True False  True False  True False  True  True  True\n",
      "  True  True  True False False  True  True  True  True  True  True  True\n",
      "  True  True  True  True False False False  True False  True  True False\n",
      " False  True False  True False  True False  True  True  True  True  True\n",
      "  True False  True  True False  True  True  True  True False  True  True\n",
      "  True  True  True  True  True False False  True  True  True  True  True\n",
      "  True False  True  True  True  True  True  True  True  True  True  True\n",
      "  True  True  True  True  True  True False  True  True  True  True  True\n",
      "  True False False  True False  True  True  True  True  True  True  True\n",
      "  True False False False False  True  True  True False  True]\n",
      "[625, 643, 824, 687, 710, 860, 713, 872, 640, 667, 725, 657, 621, 738, 700, 716, 844, 866, 789, 711, 717, 690, 868, 618, 684, 875, 823, 862, 864, 729, 760, 847, 646, 607, 600, 611, 679, 723, 791, 781, 734, 705, 803, 694, 890, 806, 661, 746, 719, 854, 688, 632, 731, 650, 858, 614, 665, 675, 712, 856, 753, 850, 848, 809, 629, 674, 757, 612, 898, 714, 701, 724, 630, 836, 747, 837, 608, 790, 776, 839, 769, 816, 834, 663, 880, 635, 812, 768, 743, 708, 606, 645, 780, 615, 851, 673, 616, 624, 831, 817, 819, 849, 818, 669, 749, 670, 838, 765, 740, 739, 871, 636, 863, 887, 889, 668, 697, 613, 721, 846, 762, 986, 1131, 901, 985, 1085, 1126, 1029, 911, 1116, 1096, 1093, 1013, 1010, 910, 957, 1141, 1145, 1022, 1180, 948, 1196, 984, 1197, 953, 1172, 1190, 903, 931, 1164, 1142, 1188, 1012, 1097, 960, 1038, 912, 900, 1127, 1052, 971, 1015, 945, 964, 987, 1020, 1007, 927, 994, 1027, 1108, 1023, 1063, 1105, 1003, 1122, 915, 1073, 925, 955, 952, 1123, 1153, 1009, 967, 1062, 1031, 1118, 1021, 1059, 934, 992, 1006, 1133, 1138, 1002, 1065, 1174, 1183, 940, 1199, 1061, 1114, 1099, 1095, 1112, 972, 949, 923, 1162, 990, 1147, 1125, 1088, 914, 976, 1044, 1167, 1113, 1069, 906, 1168, 1129, 1048, 1005, 1024, 1037, 1140, 1136, 941, 1039, 1084, 1092, 1182, 1035, 908, 916, 1036, 1087, 1034, 1078, 1094, 1053, 1026, 1177, 1008, 1032, 1070, 969, 956, 1046, 1080, 981, 1030, 1050, 993, 1100, 1193, 1171, 922, 919, 989, 902, 1176, 1119, 978, 996, 1135, 944, 1101, 1102, 921, 1090, 1146, 1165, 909, 1163, 1000, 980, 935, 1121, 1109, 1155, 1042, 1149, 1055, 1011, 937, 1132, 1181, 1086, 1189, 1770, 1590, 1708, 1611, 1594, 1726]\n",
      "tensor([ 22, 109,  42, 290,  62, 292, 210,  73,  76,  19, 129,  14, 188, 220,\n",
      "        245, 296,  15, 184, 196,  48,  26,  96, 277,   7, 186, 270, 215, 216,\n",
      "         94, 118, 128, 237, 229,  65, 208,  11, 289,  71, 291, 145, 104, 107,\n",
      "        278,  36, 218, 246, 212, 253, 195,  86, 159, 169, 209,  93, 163, 232,\n",
      "        222,  70, 280])\n",
      "298\n",
      "[ True False  True  True  True  True  True  True  True  True False  True\n",
      "  True  True  True  True  True  True False  True False  True  True  True\n",
      "  True  True False  True  True  True  True  True  True  True  True  True\n",
      "  True  True  True  True  True  True  True  True False  True  True False\n",
      "  True  True  True  True  True  True  True  True  True  True  True  True\n",
      "  True  True False  True  True  True  True  True  True  True False False\n",
      "  True False False  True  True  True  True False  True  True False  True\n",
      "  True  True  True False  True  True  True  True  True  True  True  True\n",
      "  True  True  True False  True  True  True  True False False False False\n",
      "  True  True  True  True  True False  True  True  True  True False  True\n",
      " False False  True  True  True False False  True  True  True False  True\n",
      "  True  True  True  True  True  True  True  True  True  True  True False\n",
      "  True  True  True  True  True  True  True False  True False  True False\n",
      "  True  True  True  True  True  True  True  True  True  True  True  True\n",
      " False  True  True  True False  True False  True  True  True False  True\n",
      "  True  True False  True  True  True  True  True  True  True  True  True\n",
      "  True  True  True  True False  True  True  True  True  True  True False\n",
      "  True  True False  True  True  True  True False  True False  True  True\n",
      "  True  True  True  True  True False False False  True  True False  True\n",
      " False  True  True  True  True  True  True  True  True  True  True  True\n",
      "  True  True  True  True  True  True  True  True  True False  True  True\n",
      " False  True  True False False  True  True  True  True  True  True  True\n",
      " False  True  True False  True  True False  True  True  True False  True\n",
      "  True  True  True False  True  True False False  True False  True  True\n",
      "  True  True  True  True  True  True False  True  True  True]\n",
      "[308, 443, 343, 345, 484, 350, 586, 347, 429, 326, 529, 320, 535, 309, 397, 378, 402, 383, 446, 325, 481, 599, 523, 346, 589, 489, 583, 455, 593, 500, 342, 339, 533, 494, 373, 464, 421, 418, 515, 571, 361, 323, 324, 479, 405, 579, 387, 598, 404, 349, 353, 360, 592, 319, 585, 438, 522, 558, 399, 496, 300, 498, 409, 376, 340, 488, 518, 316, 410, 426, 341, 305, 368, 576, 477, 377, 395, 478, 588, 385, 596, 416, 534, 379, 766, 711, 741, 743, 863, 824, 875, 651, 775, 893, 619, 759, 676, 771, 701, 864, 661, 703, 747, 807, 874, 688, 674, 821, 628, 625, 620, 885, 851, 886, 841, 772, 877, 826, 794, 731, 686, 896, 653, 675, 668, 720, 656, 852, 845, 639, 887, 879, 634, 685, 748, 689, 659, 871, 744, 700, 712, 832, 716, 770, 601, 696, 606, 706, 710, 899, 782, 836, 645, 797, 859, 804, 784, 783, 847, 844, 882, 816, 637, 890, 662, 795, 819, 800, 729, 788, 718, 631, 746, 867, 818, 623, 698, 817, 883, 740, 846, 641, 888, 624, 848, 878, 751, 618, 786, 756, 814, 869, 604, 667, 721, 739, 727, 642, 644, 889, 873, 650, 757, 781, 664, 719, 892, 866, 809, 738, 801, 726, 692, 613, 612, 652, 713, 808, 830, 787, 791, 632, 608, 850, 616, 730, 600, 861, 724, 812, 735, 753, 834, 793, 750, 789, 897, 857, 638, 779, 813, 837, 827, 838, 630, 694, 785, 615, 734, 635, 669, 670, 640, 723, 876, 835, 684, 745, 693, 714, 842, 691, 840, 780, 828, 790, 839, 629, 806, 833, 715, 617, 677, 655, 699, 622, 657, 722, 858, 774, 762, 605, 654, 822, 825, 895, 614, 805, 742, 829, 679, 798, 776, 602, 796, 870, 728, 671]\n",
      "tensor([226, 143, 151, 252, 213, 126, 178, 121, 107, 285, 211, 223, 267, 118,\n",
      "         99, 120,  71,  47,  26, 130, 168,  20, 155, 104, 206, 105,  18,  82,\n",
      "        125, 264, 196, 228, 172, 270,   1, 221,  10, 256, 182, 174, 282, 106,\n",
      "         73,  70, 294, 249, 113,  62,  44,  74, 153,  87, 274, 279, 283,  79,\n",
      "        255, 222, 203])\n",
      "299\n",
      "[ True  True  True  True  True  True False  True  True  True False  True\n",
      " False False  True  True  True  True  True False  True  True  True  True\n",
      "  True  True  True  True  True  True  True  True  True  True  True  True\n",
      " False  True  True False  True  True False  True  True  True  True  True\n",
      "  True  True  True  True  True  True  True  True False False  True False\n",
      "  True  True False  True  True  True False  True  True  True  True  True\n",
      "  True  True  True  True  True False  True False  True  True False  True\n",
      "  True  True False False  True  True  True  True False  True  True  True\n",
      "  True  True False  True  True  True  True  True  True  True False  True\n",
      "  True  True  True  True  True  True  True  True False False  True  True\n",
      "  True  True  True  True  True  True  True  True  True False  True  True\n",
      "  True  True False  True False  True  True False  True  True  True False\n",
      "  True  True False  True  True  True False  True  True  True  True  True\n",
      "  True  True  True  True  True  True False  True  True  True  True  True\n",
      "  True  True  True  True False  True  True False  True  True False  True\n",
      "  True False  True  True  True  True  True  True  True  True  True  True\n",
      "  True False False  True False  True  True False False False  True False\n",
      "  True False  True  True  True  True  True  True  True  True  True  True\n",
      " False  True  True  True  True  True False False  True  True False  True\n",
      " False  True  True  True  True  True  True  True  True  True  True  True\n",
      "  True  True  True  True False  True  True  True False  True  True  True\n",
      "  True  True  True  True  True  True  True  True  True  True  True  True\n",
      "  True False  True  True  True  True False  True False  True False  True\n",
      "  True  True False  True  True  True False  True  True  True  True False\n",
      "  True  True False  True  True  True False  True  True  True  True]\n",
      "[267, 231, 84, 96, 198, 205, 160, 131, 46, 181, 142, 238, 182, 111, 284, 283, 52, 59, 117, 90, 273, 196, 204, 298, 114, 42, 99, 261, 150, 245, 156, 6, 45, 119, 141, 221, 263, 280, 278, 289, 268, 55, 148, 292, 216, 61, 10, 187, 264, 252, 158, 217, 27, 163, 106, 146, 68, 64, 125, 323, 596, 365, 580, 504, 484, 366, 597, 344, 548, 562, 382, 445, 589, 571, 354, 301, 379, 303, 423, 502, 360, 367, 569, 380, 583, 520, 425, 588, 584, 575, 497, 345, 397, 434, 426, 394, 427, 478, 396, 368, 469, 465, 412, 531, 431, 318, 322, 563, 518, 1274, 1477, 1467, 1470, 1437, 1301, 1396, 1438, 1313, 1258, 1203, 1319, 1222, 1235, 1455, 1473, 1424, 1228, 1404, 1403, 1484, 1220, 1363, 1331, 1482, 1343, 1449, 1316, 1386, 1232, 1492, 1205, 1436, 1416, 1226, 1459, 1354, 1407, 1247, 1488, 1256, 1448, 1309, 1325, 1283, 1338, 1398, 1439, 1431, 1304, 1370, 1318, 1259, 1229, 1312, 1476, 1337, 1372, 1342, 1219, 1457, 1479, 1300, 1334, 1221, 1332, 1288, 1245, 1234, 1369, 1305, 1281, 1349, 1263, 1320, 1277, 1390, 1285, 1276, 1261, 1422, 1328, 1340, 1392, 1251, 1402, 1466, 1322, 1374, 1238, 1209, 1231, 1451, 1499, 1430, 1471, 1446, 1350, 1270, 1207, 1230, 1310, 1239, 1353, 1358, 1236, 1243, 1295, 1233, 1361, 1252, 1269, 1409, 1493, 1255, 1391, 1429, 1217, 1456, 1432, 1356, 1241, 1378, 1329, 1465, 1491, 1335, 1495, 1227, 1254, 1480, 1224, 1223, 1204, 1395, 1292, 1427, 1294, 1463, 1355, 1440, 1327, 1405, 1447, 1420, 1478, 1352, 1412, 1489, 1452, 1302, 1267, 1494, 1468, 1248, 1368, 1388, 1442, 1428, 1381, 1296, 1417, 1291, 1382, 1210, 1200, 1271, 1299, 1435, 1317, 1486, 1287, 1461, 1333, 1413, 1268, 1339, 1249, 1375, 1460, 1212, 1360, 1273, 1289, 1278, 1497, 1282, 1498, 1464, 1408]\n",
      "tensor([ 10, 270, 282,  87, 193, 181, 143, 205,  56, 216,  12,  13, 203, 244,\n",
      "        116, 150, 278, 129, 139,  59, 201,  82,  62, 274, 196, 194, 178,  86,\n",
      "         36, 290,  66,  77, 222, 248, 134, 136, 294, 146, 162, 287, 226,  92,\n",
      "        200, 228,  19,  98, 106, 223,   6,  57, 265,  42, 117, 199, 272, 172,\n",
      "         39, 175,  79])\n",
      "298\n",
      "[ True  True  True  True  True  True False  True  True  True  True  True\n",
      "  True False False  True False  True False  True  True  True  True  True\n",
      "  True  True  True  True False False False  True  True False  True  True\n",
      "  True  True  True  True  True False  True  True  True  True  True  True\n",
      "  True False  True False False  True  True False  True  True  True  True\n",
      "  True False  True  True  True False  True  True  True  True  True  True\n",
      "  True  True  True  True  True  True  True  True False  True  True  True\n",
      " False  True  True False  True  True  True  True False  True  True  True\n",
      "  True  True  True False  True False  True  True  True False  True  True\n",
      "  True  True False  True  True  True  True  True  True  True False False\n",
      "  True False  True  True False  True  True False  True  True  True  True\n",
      "  True  True  True  True  True  True  True  True  True  True  True False\n",
      "  True  True  True  True False  True False False  True  True  True  True\n",
      " False  True  True  True  True  True  True False  True  True  True  True\n",
      "  True  True  True False  True  True  True False  True  True  True  True\n",
      "  True  True  True False False  True  True False  True  True  True  True\n",
      " False  True  True  True False  True  True  True  True  True  True  True\n",
      "  True False False  True  True  True  True  True  True False  True  True\n",
      " False  True  True  True  True  True  True  True False  True  True  True\n",
      " False  True  True  True  True  True  True  True  True  True  True  True\n",
      "  True  True False  True False  True  True False  True  True  True  True\n",
      " False  True False  True False  True False False  True  True  True  True\n",
      "  True  True  True  True  True  True  True  True  True  True  True  True\n",
      " False  True  True  True  True  True  True False  True False  True  True\n",
      "  True  True  True  True  True  True  True  True  True  True]\n",
      "[208, 190, 294, 132, 32, 34, 182, 210, 1, 100, 221, 133, 380, 553, 536, 418, 582, 334, 313, 325, 556, 322, 575, 352, 406, 425, 401, 363, 544, 350, 400, 561, 645, 753, 643, 854, 701, 710, 856, 754, 866, 855, 827, 876, 804, 821, 644, 688, 678, 621, 806, 627, 780, 842, 694, 809, 887, 734, 652, 799, 623, 631, 875, 699, 834, 681, 604, 860, 690, 695, 851, 817, 735, 649, 683, 632, 783, 863, 771, 829, 813, 808, 748, 615, 722, 619, 824, 698, 769, 616, 892, 839, 833, 844, 657, 893, 825, 635, 741, 763, 766, 703, 624, 756, 788, 894, 634, 656, 823, 883, 628, 872, 880, 675, 746, 662, 743, 697, 852, 836, 896, 849, 724, 721, 774, 779, 873, 728, 888, 759, 620, 679, 648, 805, 886, 751, 832, 650, 781, 655, 676, 778, 793, 858, 614, 767, 617, 610, 723, 850, 891, 869, 719, 720, 811, 696, 859, 755, 642, 881, 666, 601, 669, 878, 739, 810, 629, 640, 784, 837, 700, 867, 764, 803, 773, 665, 848, 761, 611, 792, 687, 899, 636, 814, 828, 864, 732, 797, 785, 801, 682, 638, 692, 714, 789, 770, 768, 654, 861, 670, 607, 605, 857, 612, 819, 618, 877, 765, 630, 637, 672, 731, 677, 689, 661, 745, 603, 749, 794, 835, 691, 711, 868, 641, 602, 791, 680, 651, 667, 671, 772, 865, 633, 800, 845, 646, 802, 693, 725, 660, 782, 818, 668, 884, 674, 708, 736, 647, 738, 717, 737, 862, 871, 733, 608, 795, 685, 870, 796, 890, 742, 727, 663, 760, 744, 786, 847, 600, 706, 841, 830, 653, 822, 664, 702, 757, 716, 726, 718, 820, 613, 730, 673, 815, 752, 777, 658, 1492, 1211, 1380, 1241, 1396, 1403, 1361, 1371, 1430, 1313, 1404]\n",
      "tensor([206, 192, 119, 242, 118, 171, 163, 254,  80, 110,  13,  16,  84, 148,\n",
      "        105, 187, 151, 150,  49, 276, 183, 156,  55, 127,  87,  33, 259, 196,\n",
      "        224,  30,  18,  29, 175, 205,  51, 121, 124, 258, 101,  65, 285,  14,\n",
      "         41, 184, 228,  52, 283, 143,  92,  61, 216, 252, 244, 247,   6,  99,\n",
      "         28, 256, 213])\n",
      "297\n",
      "[ True  True False False  True  True  True  True  True  True  True  True\n",
      "  True  True False  True  True  True  True  True False False  True  True\n",
      " False  True  True  True  True  True  True False  True  True  True  True\n",
      " False  True False False  True  True False  True  True  True  True  True\n",
      "  True  True  True False  True  True  True  True  True False  True  True\n",
      " False  True  True  True  True  True  True  True  True  True  True False\n",
      "  True  True  True False  True  True  True  True  True  True  True False\n",
      " False False  True False  True  True  True  True  True False  True  True\n",
      " False  True  True  True  True  True False  True  True  True  True  True\n",
      "  True False  True False False  True  True  True  True  True  True False\n",
      "  True  True  True False  True False  True  True False False  True  True\n",
      "  True  True  True  True False  True  True  True  True  True False  True\n",
      "  True  True  True  True  True  True  True  True  True  True  True  True\n",
      "  True  True  True  True  True  True  True  True False  True  True False\n",
      "  True  True  True  True  True  True  True  True False  True  True  True\n",
      "  True  True  True  True  True  True  True  True  True  True  True  True\n",
      " False  True  True  True False  True  True False  True  True False  True\n",
      "  True  True  True False  True  True  True  True  True  True False  True\n",
      "  True  True False False  True False  True  True False  True  True  True\n",
      "  True False  True  True  True  True  True  True  True  True  True  True\n",
      "  True  True  True  True False  True  True  True False  True  True  True\n",
      "  True  True  True  True  True  True  True False  True  True  True  True\n",
      " False  True  True  True  True  True  True False False  True  True  True\n",
      " False  True False False  True  True False  True  True  True  True  True\n",
      "  True  True False False  True  True  True  True  True]\n",
      "[375, 436, 582, 343, 587, 550, 493, 461, 382, 596, 429, 329, 446, 546, 583, 510, 330, 581, 399, 490, 338, 536, 586, 402, 538, 401, 561, 441, 308, 445, 597, 316, 494, 503, 462, 455, 570, 366, 418, 553, 557, 541, 558, 313, 339, 439, 392, 502, 473, 571, 325, 469, 310, 448, 334, 305, 311, 323, 507, 327, 530, 551, 377, 419, 508, 306, 407, 361, 387, 531, 371, 509, 393, 532, 499, 315, 398, 578, 456, 365, 577, 460, 523, 588, 354, 434, 459, 584, 417, 516, 483, 576, 357, 333, 595, 440, 552, 320, 321, 566, 374, 449, 336, 454, 559, 379, 515, 353, 519, 427, 481, 312, 430, 554, 335, 300, 533, 463, 589, 778, 739, 718, 708, 675, 641, 642, 878, 819, 804, 643, 876, 764, 859, 734, 715, 788, 800, 660, 616, 638, 720, 658, 683, 776, 699, 848, 781, 852, 857, 897, 677, 653, 807, 664, 604, 880, 719, 818, 640, 726, 654, 838, 839, 650, 645, 617, 862, 621, 622, 733, 628, 632, 711, 758, 618, 883, 845, 601, 774, 806, 647, 688, 670, 821, 875, 696, 858, 717, 636, 888, 869, 828, 657, 625, 855, 702, 786, 766, 723, 849, 748, 729, 895, 655, 834, 761, 808, 887, 762, 794, 832, 783, 709, 879, 615, 692, 813, 600, 689, 853, 1075, 1444, 1486, 1248, 1483, 1496, 1404, 1480, 1286, 1202, 1489, 1465, 1414, 1459, 1471, 1229, 1228, 1332, 1254, 1267, 1391, 1385, 1212, 1372, 1302, 1214, 1252, 1389, 1290, 1333, 1265, 1367, 1221, 1299, 1284, 1454, 1425, 1235, 1209, 1384, 1320, 1433, 1475, 1273, 1498, 1264, 1478, 1436, 1326, 1258, 1348, 1380, 1429, 1442, 1395, 1365, 1462, 1259, 1350, 1497, 1484, 1345, 1274, 1269, 1450, 1382, 1402, 1455, 1376, 1249, 1412, 1353, 1354, 1470, 1584, 1773, 1515]\n",
      "tensor([ 57, 142, 290, 207, 276,  75,  39,   3,  96, 218, 282, 123, 244,  83,\n",
      "         93, 167, 214,  60, 164, 129, 111,  38, 248, 119,  24,   2, 224,  71,\n",
      "        192, 202, 291,  87, 128,  84,  31, 125,  14, 279, 221, 176, 264,  20,\n",
      "         42, 259, 219, 196, 278,  36, 102, 136,  85, 271, 199,  21,  51, 109,\n",
      "        229, 272, 112])\n",
      "tensor([3., 3., 3., 3., 3., 3., 5., 3., 3., 3., 4., 3., 4., 3., 3., 4., 3., 3.,\n",
      "        3., 3., 3., 3., 4., 5., 4., 3., 4., 3., 4., 3., 3., 4., 4., 3., 3., 3.,\n",
      "        3., 3., 3., 3., 3., 5., 3., 3., 3., 3., 3., 3., 5., 3., 3., 3., 3., 3.,\n",
      "        4., 4., 3., 4., 3., 2., 2., 2., 3., 2., 5., 3., 2., 2., 2., 3., 2., 3.,\n",
      "        3., 3., 5., 2., 3., 3., 2., 2., 2., 3., 2., 3., 3., 3., 3., 2., 2., 3.,\n",
      "        3., 3., 2., 3., 2., 3., 2., 3., 3., 2., 2., 3., 2., 3., 3., 3., 3., 3.,\n",
      "        2., 3., 3., 3., 2., 3., 3., 3., 2., 3., 2., 2., 2., 2., 2., 2., 2., 2.,\n",
      "        2., 2., 2., 2., 2., 2., 2., 2., 1., 1., 1., 2., 2., 1., 2., 2., 2., 2.,\n",
      "        1., 1., 2., 2., 2., 2., 2., 2., 1., 2., 1., 2., 2., 2., 2., 2., 1., 1.,\n",
      "        2., 2., 2., 1., 1., 1., 2., 2., 2., 2., 2., 1., 2., 2., 2., 0., 4., 4.,\n",
      "        1., 4., 4., 4., 4., 0., 4., 0., 0., 4., 4., 4., 4., 4., 4., 4., 1., 4.,\n",
      "        1., 1., 4., 4., 4., 4., 1., 0., 4., 1., 1., 4., 4., 4., 4., 4., 4., 4.,\n",
      "        4., 4., 1., 4., 4., 0., 1., 1., 4., 0., 0., 4., 0., 4., 4., 4., 4., 0.,\n",
      "        4., 1., 2., 2., 2., 2., 2., 2., 2., 2., 2., 2., 1., 1., 2., 2., 2., 2.,\n",
      "        2., 2., 2., 2., 2., 2., 2., 2., 2., 2., 2., 2., 2., 1., 1., 1., 2., 2.,\n",
      "        2., 2., 2., 2., 2., 2., 2., 1., 2., 2., 2., 2., 2., 2., 2., 2., 2., 2.,\n",
      "        2., 2., 0., 2., 1., 2., 2., 1., 2., 4., 2., 4., 1., 1., 1., 1., 2., 4.,\n",
      "        2., 4., 1., 1., 2., 2., 1., 2., 2., 1., 1., 4., 2., 1., 1., 4., 1., 2.,\n",
      "        2., 4., 1., 2., 1., 1., 2., 1., 4., 4., 2., 4., 1., 1., 4., 2., 2., 4.,\n",
      "        1., 1., 2., 1., 4., 2., 1., 1., 1., 4., 4., 1.])\n",
      "354\n",
      "354\n"
     ]
    }
   ],
   "source": [
    "config = {\n",
    "\t'T' : 1000,\n",
    "\t'n' : 10,\n",
    "\t'f': 4,\n",
    "\t'lr' : 0.1,\n",
    "\t'milestones' : [600,800,900],\n",
    "\t'gamma' : 0.2,\n",
    "\t'dataset' : 'gaussians',\n",
    "\t'alpha' : 0.1,\n",
    "\t'ecart': 10,\n",
    "\t'nb_classes' : 6,\n",
    "\t'attack' : 'SF',\n",
    "\t'agg' : 'trmean',\n",
    "\t'optim' : 'gd',\n",
    "\t# 'lbdas' : [0],\n",
    "\t# 'lbdas' : [0]+[1e-5 * 1.1**i for i in range(10)],\n",
    "\t'lbdas' : [0, 1e-5, 5e-5, 1e-4, 5e-4, 1e-3, 5e-3, 1e-2, 5e-2, 1e-1, 5e-1,1,2,4,5,8,10,12,15,18,22,25],\n",
    "\t'batch_size' : -1,\n",
    "\t'model' : 'logistic_gaussian',\n",
    "\t'device' : 'cpu', \n",
    "\t'nb_run' : 10, \n",
    "\t'seed' : 1\n",
    "}\n",
    "\n",
    "config['nb_honest'] = config['n'] - config['f']\n",
    "\n",
    "dataloaders, test_data_loader, final_dataset, indices = test.dirichlet_gaussians(config)\n"
   ]
  },
  {
   "cell_type": "code",
   "execution_count": 3,
   "id": "21a85b77",
   "metadata": {},
   "outputs": [
    {
     "name": "stdout",
     "output_type": "stream",
     "text": [
      "1084\n",
      "1788\n"
     ]
    }
   ],
   "source": [
    "new_ = []\n",
    "\n",
    "for i in range(len(indices)):\n",
    "    new_ = new_ + indices[i]\n",
    "print(len(np.unique(np.array(new_))))\n",
    "print(len(np.array(new_)))"
   ]
  },
  {
   "cell_type": "code",
   "execution_count": 4,
   "id": "33945b8b",
   "metadata": {},
   "outputs": [
    {
     "data": {
      "text/plain": [
       "torch.Size([1800, 2])"
      ]
     },
     "execution_count": 4,
     "metadata": {},
     "output_type": "execute_result"
    }
   ],
   "source": [
    "final_dataset[0].shape"
   ]
  },
  {
   "cell_type": "code",
   "execution_count": 5,
   "id": "e2af5856",
   "metadata": {},
   "outputs": [
    {
     "data": {
      "image/png": "[encoded data removed]",
      "text/plain": [
       "<Figure size 640x480 with 1 Axes>"
      ]
     },
     "metadata": {},
     "output_type": "display_data"
    }
   ],
   "source": [
    "for i in range(config['nb_classes']):\n",
    "    indexes = final_dataset[1] == i\n",
    "    plt.plot(final_dataset[0][indexes,0], final_dataset[0][indexes,1], '.', color='C'+str(i))"
   ]
  },
  {
   "cell_type": "code",
   "execution_count": 6,
   "id": "2694c6cd",
   "metadata": {
    "scrolled": true
   },
   "outputs": [
    {
     "name": "stdout",
     "output_type": "stream",
     "text": [
      "{0: <torch.utils.data.dataloader.DataLoader object at 0x7fb8d20ac9a0>, 1: <torch.utils.data.dataloader.DataLoader object at 0x7fb8d2089970>, 2: <torch.utils.data.dataloader.DataLoader object at 0x7fb8d2089d90>, 3: <torch.utils.data.dataloader.DataLoader object at 0x7fb8d386fe50>, 4: <torch.utils.data.dataloader.DataLoader object at 0x7fb8d386ffa0>, 5: <torch.utils.data.dataloader.DataLoader object at 0x7fb8d386f910>}\n",
      "6\n",
      "239\n",
      "239\n",
      "239\n",
      "240\n",
      "239\n",
      "238\n"
     ]
    },
    {
     "data": {
      "image/png": "[encoded data removed]",
      "text/plain": [
       "<Figure size 640x480 with 1 Axes>"
      ]
     },
     "metadata": {},
     "output_type": "display_data"
    }
   ],
   "source": [
    "for i in range(len(dataloaders)):\n",
    "    train_dataset_worker = next(iter(dataloaders[i]))\n",
    "    print(len(train_dataset_worker[0]))\n",
    "    plt.plot(train_dataset_worker[0][:,0], train_dataset_worker[0][:,1], '.', color='C'+str(i))\n"
   ]
  },
  {
   "cell_type": "code",
   "execution_count": 19,
   "id": "584f6501",
   "metadata": {},
   "outputs": [
    {
     "name": "stdout",
     "output_type": "stream",
     "text": [
      "354\n"
     ]
    },
    {
     "data": {
      "image/png": "[encoded data removed]",
      "text/plain": [
       "<Figure size 640x480 with 1 Axes>"
      ]
     },
     "metadata": {},
     "output_type": "display_data"
    }
   ],
   "source": [
    "data = next(iter(test_data_loader))\n",
    "\n",
    "print(len(data[0]))\n",
    "\n",
    "for i in range(config['nb_classes']):\n",
    "    indexes = data[1] == i\n",
    "    plt.plot(data[0][indexes,0], data[0][indexes,1], '.', color='C'+str(i))"
   ]
  },
  {
   "cell_type": "code",
   "execution_count": 8,
   "id": "d4e4c3b6",
   "metadata": {},
   "outputs": [
    {
     "data": {
      "text/plain": [
       "[1092,\n",
       " 923,\n",
       " 1050,\n",
       " 972,\n",
       " 993,\n",
       " 1117,\n",
       " 1090,\n",
       " 987,\n",
       " 1165,\n",
       " 1188,\n",
       " 1027,\n",
       " 1008,\n",
       " 1151,\n",
       " 955,\n",
       " 1039,\n",
       " 908,\n",
       " 979,\n",
       " 1182,\n",
       " 1103,\n",
       " 1096,\n",
       " 1016,\n",
       " 942,\n",
       " 1119,\n",
       " 1067,\n",
       " 1061,\n",
       " 1140,\n",
       " 1062,\n",
       " 954,\n",
       " 941,\n",
       " 1086,\n",
       " 1127,\n",
       " 928,\n",
       " 968,\n",
       " 994,\n",
       " 1107,\n",
       " 1070,\n",
       " 1042,\n",
       " 1178,\n",
       " 1064,\n",
       " 920,\n",
       " 1135,\n",
       " 934,\n",
       " 1047,\n",
       " 907,\n",
       " 1132,\n",
       " 1124,\n",
       " 1133,\n",
       " 1162,\n",
       " 1098,\n",
       " 1097,\n",
       " 1146,\n",
       " 1054,\n",
       " 935,\n",
       " 1122,\n",
       " 991,\n",
       " 1164,\n",
       " 995,\n",
       " 958,\n",
       " 1154,\n",
       " 953,\n",
       " 971,\n",
       " 1094,\n",
       " 1022,\n",
       " 1138,\n",
       " 1144,\n",
       " 902,\n",
       " 975,\n",
       " 1069,\n",
       " 1031,\n",
       " 1172,\n",
       " 938,\n",
       " 989,\n",
       " 1078,\n",
       " 903,\n",
       " 914,\n",
       " 986,\n",
       " 1087,\n",
       " 1161,\n",
       " 959,\n",
       " 1126,\n",
       " 1152,\n",
       " 906,\n",
       " 919,\n",
       " 1147,\n",
       " 1176,\n",
       " 990,\n",
       " 1040,\n",
       " 1169,\n",
       " 1023,\n",
       " 1053,\n",
       " 1142,\n",
       " 940,\n",
       " 1002,\n",
       " 1051,\n",
       " 1116,\n",
       " 1081,\n",
       " 1158,\n",
       " 1044,\n",
       " 970,\n",
       " 1020,\n",
       " 1102,\n",
       " 996,\n",
       " 1085,\n",
       " 910,\n",
       " 1137,\n",
       " 1148,\n",
       " 1024,\n",
       " 1171,\n",
       " 1076,\n",
       " 1025,\n",
       " 1011,\n",
       " 982,\n",
       " 1035,\n",
       " 1197,\n",
       " 1063,\n",
       " 939,\n",
       " 1109,\n",
       " 1180,\n",
       " 984,\n",
       " 1187,\n",
       " 1101,\n",
       " 1060,\n",
       " 1192,\n",
       " 1106,\n",
       " 998,\n",
       " 901,\n",
       " 937,\n",
       " 1099,\n",
       " 965,\n",
       " 1153,\n",
       " 1110,\n",
       " 913,\n",
       " 1159,\n",
       " 900,\n",
       " 992,\n",
       " 1190,\n",
       " 929,\n",
       " 1055,\n",
       " 1048,\n",
       " 931,\n",
       " 1160,\n",
       " 1073,\n",
       " 1006,\n",
       " 1005,\n",
       " 1068,\n",
       " 1104,\n",
       " 904,\n",
       " 1112,\n",
       " 1013,\n",
       " 976,\n",
       " 1003,\n",
       " 925,\n",
       " 945,\n",
       " 963,\n",
       " 1194,\n",
       " 1033,\n",
       " 1028,\n",
       " 1143,\n",
       " 915,\n",
       " 1193,\n",
       " 1059,\n",
       " 932,\n",
       " 1114,\n",
       " 1046,\n",
       " 1030,\n",
       " 1177,\n",
       " 1041,\n",
       " 1170,\n",
       " 1079,\n",
       " 980,\n",
       " 1113,\n",
       " 1066,\n",
       " 1149,\n",
       " 1093,\n",
       " 962,\n",
       " 1199,\n",
       " 1181,\n",
       " 1045,\n",
       " 950,\n",
       " 1191,\n",
       " 944,\n",
       " 917,\n",
       " 964,\n",
       " 1065,\n",
       " 1125,\n",
       " 1105,\n",
       " 1272,\n",
       " 1239,\n",
       " 1351,\n",
       " 1395,\n",
       " 1316,\n",
       " 1313,\n",
       " 1370,\n",
       " 1212,\n",
       " 1206,\n",
       " 1288,\n",
       " 1339,\n",
       " 1356,\n",
       " 1277,\n",
       " 1240,\n",
       " 1387,\n",
       " 1373,\n",
       " 1379,\n",
       " 1265,\n",
       " 1297,\n",
       " 1481,\n",
       " 1492,\n",
       " 1280,\n",
       " 1391,\n",
       " 1486,\n",
       " 1428,\n",
       " 1318,\n",
       " 1490,\n",
       " 1311,\n",
       " 1223,\n",
       " 1477,\n",
       " 1294,\n",
       " 1475,\n",
       " 1384,\n",
       " 1338,\n",
       " 1439,\n",
       " 1208,\n",
       " 1407,\n",
       " 1478,\n",
       " 1270,\n",
       " 1314,\n",
       " 1411,\n",
       " 1386,\n",
       " 1438,\n",
       " 1410,\n",
       " 1381,\n",
       " 1646,\n",
       " 1731,\n",
       " 1608,\n",
       " 1760,\n",
       " 1596,\n",
       " 1572,\n",
       " 1617,\n",
       " 1750]"
      ]
     },
     "execution_count": 8,
     "metadata": {},
     "output_type": "execute_result"
    }
   ],
   "source": [
    "dataloaders[0].dataset.indices"
   ]
  },
  {
   "cell_type": "code",
   "execution_count": 9,
   "id": "ff6ab2ad",
   "metadata": {},
   "outputs": [
    {
     "ename": "NameError",
     "evalue": "name 'server' is not defined",
     "output_type": "error",
     "traceback": [
      "\u001b[0;31m---------------------------------------------------------------------------\u001b[0m",
      "\u001b[0;31mNameError\u001b[0m                                 Traceback (most recent call last)",
      "\u001b[0;32m/var/folders/wj/2qgpd9jx17zb6tzj9wqndrq00000gn/T/ipykernel_9344/1356677552.py\u001b[0m in \u001b[0;36m<module>\u001b[0;34m\u001b[0m\n\u001b[0;32m----> 1\u001b[0;31m \u001b[0mtest_dataset\u001b[0m \u001b[0;34m=\u001b[0m \u001b[0;34m(\u001b[0m\u001b[0mserver\u001b[0m\u001b[0;34m.\u001b[0m\u001b[0mtesting_dataset\u001b[0m\u001b[0;34m.\u001b[0m\u001b[0mdata\u001b[0m\u001b[0;34m,\u001b[0m \u001b[0mserver\u001b[0m\u001b[0;34m.\u001b[0m\u001b[0mtesting_dataset\u001b[0m\u001b[0;34m.\u001b[0m\u001b[0mtargets\u001b[0m\u001b[0;34m)\u001b[0m\u001b[0;34m\u001b[0m\u001b[0;34m\u001b[0m\u001b[0m\n\u001b[0m\u001b[1;32m      2\u001b[0m \u001b[0mprint\u001b[0m\u001b[0;34m(\u001b[0m\u001b[0mlen\u001b[0m\u001b[0;34m(\u001b[0m\u001b[0mtest_dataset\u001b[0m\u001b[0;34m[\u001b[0m\u001b[0;36m1\u001b[0m\u001b[0;34m]\u001b[0m\u001b[0;34m)\u001b[0m\u001b[0;34m)\u001b[0m\u001b[0;34m\u001b[0m\u001b[0;34m\u001b[0m\u001b[0m\n\u001b[1;32m      3\u001b[0m \u001b[0;32mfor\u001b[0m \u001b[0mi\u001b[0m \u001b[0;32min\u001b[0m \u001b[0mrange\u001b[0m\u001b[0;34m(\u001b[0m\u001b[0mconfig\u001b[0m\u001b[0;34m[\u001b[0m\u001b[0;34m'nb_classes'\u001b[0m\u001b[0;34m]\u001b[0m\u001b[0;34m)\u001b[0m\u001b[0;34m:\u001b[0m\u001b[0;34m\u001b[0m\u001b[0;34m\u001b[0m\u001b[0m\n\u001b[1;32m      4\u001b[0m     \u001b[0mindexes\u001b[0m \u001b[0;34m=\u001b[0m \u001b[0mtest_dataset\u001b[0m\u001b[0;34m[\u001b[0m\u001b[0;36m1\u001b[0m\u001b[0;34m]\u001b[0m \u001b[0;34m==\u001b[0m \u001b[0mi\u001b[0m\u001b[0;34m\u001b[0m\u001b[0;34m\u001b[0m\u001b[0m\n\u001b[1;32m      5\u001b[0m     \u001b[0mplt\u001b[0m\u001b[0;34m.\u001b[0m\u001b[0mplot\u001b[0m\u001b[0;34m(\u001b[0m\u001b[0mtest_dataset\u001b[0m\u001b[0;34m[\u001b[0m\u001b[0;36m0\u001b[0m\u001b[0;34m]\u001b[0m\u001b[0;34m[\u001b[0m\u001b[0mindexes\u001b[0m\u001b[0;34m,\u001b[0m\u001b[0;36m0\u001b[0m\u001b[0;34m]\u001b[0m\u001b[0;34m,\u001b[0m \u001b[0mtest_dataset\u001b[0m\u001b[0;34m[\u001b[0m\u001b[0;36m0\u001b[0m\u001b[0;34m]\u001b[0m\u001b[0;34m[\u001b[0m\u001b[0mindexes\u001b[0m\u001b[0;34m,\u001b[0m\u001b[0;36m1\u001b[0m\u001b[0;34m]\u001b[0m\u001b[0;34m,\u001b[0m \u001b[0;34m'.'\u001b[0m\u001b[0;34m,\u001b[0m \u001b[0mcolor\u001b[0m\u001b[0;34m=\u001b[0m\u001b[0;34m'C'\u001b[0m\u001b[0;34m+\u001b[0m\u001b[0mstr\u001b[0m\u001b[0;34m(\u001b[0m\u001b[0mi\u001b[0m\u001b[0;34m)\u001b[0m\u001b[0;34m)\u001b[0m\u001b[0;34m\u001b[0m\u001b[0;34m\u001b[0m\u001b[0m\n",
      "\u001b[0;31mNameError\u001b[0m: name 'server' is not defined"
     ]
    }
   ],
   "source": [
    "test_dataset = (server.testing_dataset.data, server.testing_dataset.targets)\n",
    "print(len(test_dataset[1]))\n",
    "for i in range(config['nb_classes']):\n",
    "    indexes = test_dataset[1] == i\n",
    "    plt.plot(test_dataset[0][indexes,0], test_dataset[0][indexes,1], '.', color='C'+str(i))\n",
    "\n",
    "# plt.plot(x,y)"
   ]
  },
  {
   "cell_type": "code",
   "execution_count": null,
   "id": "a309f130",
   "metadata": {},
   "outputs": [],
   "source": [
    "for i in range(len(honest_workers)):\n",
    "#     print(next(iter(dataloaders[i])))\n",
    "    data, target = next(iter(dataloaders[i]))\n",
    "    plt.plot(data[:,0], data[:,1], '.', color='C'+str(i))"
   ]
  },
  {
   "cell_type": "code",
   "execution_count": null,
   "id": "b81c4c2c",
   "metadata": {},
   "outputs": [],
   "source": [
    "dataloaders[0]"
   ]
  },
  {
   "cell_type": "code",
   "execution_count": null,
   "id": "89b88669",
   "metadata": {},
   "outputs": [],
   "source": [
    "idx = torch.randperm(indices.size(0))[:int(indices.size(0)*p)]"
   ]
  },
  {
   "cell_type": "code",
   "execution_count": null,
   "id": "c9959d12",
   "metadata": {},
   "outputs": [],
   "source": [
    "[0]+[1e-5 * 1.9**i for i in range(20)]"
   ]
  },
  {
   "cell_type": "code",
   "execution_count": null,
   "id": "68f23627",
   "metadata": {},
   "outputs": [],
   "source": []
  },
  {
   "cell_type": "code",
   "execution_count": null,
   "id": "7fbe75cc",
   "metadata": {},
   "outputs": [],
   "source": [
    "tab_accuracies = np.zeros((10,20))"
   ]
  },
  {
   "cell_type": "code",
   "execution_count": null,
   "id": "332b9d03",
   "metadata": {},
   "outputs": [],
   "source": [
    "\n",
    "savetxt('test.csv', tab_accuracies, delimiter=',')"
   ]
  },
  {
   "cell_type": "code",
   "execution_count": null,
   "id": "95a5c3dd",
   "metadata": {},
   "outputs": [],
   "source": [
    "np.zeros((3, 4, 2)).mean(axis = 0)"
   ]
  },
  {
   "cell_type": "code",
   "execution_count": null,
   "id": "38d252f8",
   "metadata": {},
   "outputs": [],
   "source": [
    "device = torch.device('cuda' if torch.cuda.is_available() else 'cpu')\n",
    "str(device)"
   ]
  },
  {
   "cell_type": "code",
   "execution_count": null,
   "id": "33321eff",
   "metadata": {},
   "outputs": [],
   "source": [
    "index = torch.LongTensor(np.arange(100)*2)"
   ]
  },
  {
   "cell_type": "code",
   "execution_count": null,
   "id": "6bac2e36",
   "metadata": {},
   "outputs": [],
   "source": [
    "indices = index == -1\n",
    "p = 0.1\n",
    "idx = torch.randperm(indices.size(0))[:int(indices.size(0)*p)]\n",
    "indices[idx] = True"
   ]
  },
  {
   "cell_type": "code",
   "execution_count": null,
   "id": "0273d28f",
   "metadata": {},
   "outputs": [],
   "source": [
    "index[indices]"
   ]
  },
  {
   "cell_type": "code",
   "execution_count": null,
   "id": "e9b4e50c",
   "metadata": {},
   "outputs": [],
   "source": [
    "def generate_gaussian_datasets(nb_per_class = 300, nb_classes = 2, ecart = 10, p = 0.2):\n",
    "        pi = np.pi\n",
    "\n",
    "        data = []\n",
    "        targets = []\n",
    "        for i in range(nb_classes):\n",
    "            x = torch.randn(nb_per_class,2) \n",
    "            x[:,0] = x[:,0] + np.cos((2*pi/nb_classes)*i)*ecart\n",
    "            x[:,1] = x[:,1] + np.sin((2*pi/nb_classes)*i)*ecart\n",
    "            y = torch.zeros(nb_per_class) + i\n",
    "            data.append(x)\n",
    "            targets.append(y)\n",
    "        data = torch.cat(data)\n",
    "        targets = torch.cat(targets)\n",
    "\n",
    "        test_indices = targets == -1\n",
    "        train_indices = targets > -1\n",
    "\n",
    "        idx = torch.randperm(test_indices.size(0))[:int(test_indices.size(0)*p)]\n",
    "        test_indices[idx] = True\n",
    "        train_indices[idx] = False\n",
    "\n",
    "        test_data = data[test_indices]\n",
    "        test_targets = targets[test_indices]\n",
    "\n",
    "        data = data[train_indices]\n",
    "        targets = targets[train_indices]\n",
    "        return data, targets, test_data, test_targets"
   ]
  },
  {
   "cell_type": "code",
   "execution_count": null,
   "id": "7b2b513d",
   "metadata": {},
   "outputs": [],
   "source": [
    "nb_classes = 10\n",
    "\n",
    "data, targets, test_data, test_targets = generate_gaussian_datasets(nb_classes = nb_classes)"
   ]
  },
  {
   "cell_type": "code",
   "execution_count": null,
   "id": "040ff8af",
   "metadata": {},
   "outputs": [],
   "source": [
    "plt.plot(data[:,0], data[:,1], '.')\n",
    "plt.plot(test_data[:,0], test_data[:,1], '.', c='C1')"
   ]
  },
  {
   "cell_type": "code",
   "execution_count": null,
   "id": "74f5acca",
   "metadata": {},
   "outputs": [],
   "source": [
    "l = torch.LongTensor([2,4,6,8])\n",
    "idx = torch.randperm(l.size(0))[:int(l.size(0)*0.6)]"
   ]
  },
  {
   "cell_type": "code",
   "execution_count": null,
   "id": "a6570e6f",
   "metadata": {},
   "outputs": [],
   "source": [
    "l[idx]"
   ]
  },
  {
   "cell_type": "code",
   "execution_count": null,
   "id": "aa436c79",
   "metadata": {},
   "outputs": [],
   "source": [
    "l = np.array([1,2,3,4,5])\n",
    "idx = [True, False, True, False, True]\n",
    "idx2 = [0,2,4]\n",
    "l[idx]\n"
   ]
  },
  {
   "cell_type": "code",
   "execution_count": null,
   "id": "1cfb50cb",
   "metadata": {},
   "outputs": [],
   "source": [
    "l[idx2]\n"
   ]
  },
  {
   "cell_type": "code",
   "execution_count": null,
   "id": "67485748",
   "metadata": {},
   "outputs": [],
   "source": [
    "l[np.where(idx)[0]]"
   ]
  },
  {
   "cell_type": "code",
   "execution_count": null,
   "id": "4ddeccea",
   "metadata": {},
   "outputs": [],
   "source": [
    "np.array([1,2,3,4]) >  2"
   ]
  },
  {
   "cell_type": "code",
   "execution_count": null,
   "id": "6f6ff570",
   "metadata": {},
   "outputs": [],
   "source": []
  },
  {
   "cell_type": "code",
   "execution_count": null,
   "id": "2821449f",
   "metadata": {},
   "outputs": [],
   "source": [
    "a = [218, 200, 155, 165, 101, 55, 164, 163, 259, 140, 6, 71, 23, 257, 205, 121, 236, 192, 104, 265, 109, 60, 220, 264, 290, 262, 287, 135, 141, 299, 36, 194, 285, 231, 233, 56, 61, 197, 126, 84, 70, 167, 277, 154, 280, 92, 298, 111, 248, 77, 204, 191, 146, 260, 1142, 1191, 1388, 1328, 1413, 1213, 1202, 1293, 1219, 1269, 1381, 1380, 1385, 1456, 1326, 1247, 1353, 1480, 1318, 1453, 1361, 1379, 1330, 1368, 1298, 1465, 1384, 1442, 1404, 1236, 1445, 1258, 1436, 1454, 1496, 1478, 1270, 1335, 1206, 1460, 1238, 1497, 1401, 1334, 1225, 1438, 1230, 1302, 1299, 1461, 1426, 1448, 1221, 1315, 1471, 1295, 1347, 1252, 1331, 1301, 1290, 1243, 1491, 1278, 1279, 1418, 1468, 1400, 1490, 1322, 1307, 1498, 1479, 1210, 1469, 1235, 1363, 1356, 1446, 1412, 1215, 1212, 1467, 1345, 1382, 1233, 1211, 1288, 1482, 1352, 1325, 1262, 1351, 1249, 1316, 1360, 1485, 1217, 1280, 1200, 1493, 1443, 1355, 1397, 1389, 1204, 1339, 1329, 1223, 1417, 1227, 1444, 1319, 1450, 1271, 1314, 1309, 1424, 1474, 1317, 1220, 1291, 1447, 1248, 1459, 1348, 1268, 1405, 1495, 1476, 1455, 1409, 1419, 1452, 1377, 1358, 1242, 1475, 1427, 1305, 1294, 1284, 1256, 1364, 1265, 1201, 1395, 1367, 1267, 1257, 1370, 1321, 1499, 1425, 1411, 1466, 1338, 1423, 1323, 1208, 1374, 1203, 1457, 1306, 1422, 1349, 1354, 1350, 1297, 1489, 1362, 1292, 1407, 1240, 1253, 1333, 1346, 1254, 1393, 1216, 1429, 1207, 1228, 1481, 1440, 1222, 1391, 1332, 1266, 1264, 1421, 1224, 1366, 1209, 1285, 1311, 1205, 1260, 1359, 1300, 1399, 1237, 1214, 1473, 1310, 1414, 1449, 1398, 1420, 1477, 1218, 1487, 1234, 1261, 1340, 1245, 1433, 1463, 1281, 1263, 1369, 1241, 1462, 1304, 1437, 1390, 1402, 1472, 1277, 1337, 1308, 1320, 1275, 1327, 1432, 1416, 1324, 1470, 1343, 1408, 1492, 1464, 1251, 1250]\n",
    "b = torch.LongTensor([142,  14, 173,  54, 191,  69, 295,  70,  78, 116,  77,   4, 150, 194,\n",
    "        141, 262, 133, 251,  17, 145,   1, 258,  87,  35,  42,  16, 187, 204,\n",
    "        134,  13, 266, 221,  15, 182, 144, 234, 161, 195, 259, 232,  93, 149,\n",
    "        108, 231, 219, 223,  92,  39, 117, 106, 255, 124,  60, 291, 176,  47,\n",
    "        215, 115, 273])"
   ]
  },
  {
   "cell_type": "code",
   "execution_count": null,
   "id": "b7737cb0",
   "metadata": {},
   "outputs": [],
   "source": [
    "np.array(a)[b]"
   ]
  },
  {
   "cell_type": "code",
   "execution_count": 25,
   "id": "9f8bee13",
   "metadata": {},
   "outputs": [
    {
     "name": "stdout",
     "output_type": "stream",
     "text": [
      "1 2\n",
      "2 3\n",
      "3 4\n"
     ]
    }
   ],
   "source": [
    "for i,j in zip([1,2,3],[2,3,4,6, 7, 8, 9]):\n",
    "    print(i,j)"
   ]
  },
  {
   "cell_type": "code",
   "execution_count": 39,
   "id": "9e82a532",
   "metadata": {},
   "outputs": [
    {
     "name": "stdout",
     "output_type": "stream",
     "text": [
      "[2.25775912e-06 6.99245358e-06 6.39901999e-08 2.35582340e-02\n",
      " 4.60913806e-02 1.65728632e-08 4.61643484e-02 5.84878734e-02\n",
      " 7.80936109e-04 8.24907897e-01]\n",
      "1.0\n",
      "[2.25775912e-06 6.99245358e-06 6.39901999e-08 2.35582340e-02\n",
      " 4.60913806e-02 1.65728632e-08 4.61643484e-02 5.84878734e-02\n",
      " 7.80936109e-04 8.24907897e-01]\n",
      "1.0\n"
     ]
    },
    {
     "ename": "TypeError",
     "evalue": "slice indices must be integers or None or have an __index__ method",
     "output_type": "error",
     "traceback": [
      "\u001b[0;31m---------------------------------------------------------------------------\u001b[0m",
      "\u001b[0;31mTypeError\u001b[0m                                 Traceback (most recent call last)",
      "\u001b[0;32m/var/folders/wj/2qgpd9jx17zb6tzj9wqndrq00000gn/T/ipykernel_9344/2341360492.py\u001b[0m in \u001b[0;36m<module>\u001b[0;34m\u001b[0m\n\u001b[1;32m     14\u001b[0m     \u001b[0mprint\u001b[0m\u001b[0;34m(\u001b[0m\u001b[0mproportions\u001b[0m\u001b[0;34m)\u001b[0m\u001b[0;34m\u001b[0m\u001b[0;34m\u001b[0m\u001b[0m\n\u001b[1;32m     15\u001b[0m     \u001b[0mprint\u001b[0m\u001b[0;34m(\u001b[0m\u001b[0mproportions\u001b[0m\u001b[0;34m.\u001b[0m\u001b[0msum\u001b[0m\u001b[0;34m(\u001b[0m\u001b[0;34m)\u001b[0m\u001b[0;34m)\u001b[0m\u001b[0;34m\u001b[0m\u001b[0;34m\u001b[0m\u001b[0m\n\u001b[0;32m---> 16\u001b[0;31m     \u001b[0midx_batch\u001b[0m \u001b[0;34m=\u001b[0m \u001b[0;34m[\u001b[0m\u001b[0midx_j\u001b[0m \u001b[0;34m+\u001b[0m \u001b[0midx\u001b[0m\u001b[0;34m.\u001b[0m\u001b[0mtolist\u001b[0m\u001b[0;34m(\u001b[0m\u001b[0;34m)\u001b[0m \u001b[0;32mfor\u001b[0m \u001b[0midx_j\u001b[0m\u001b[0;34m,\u001b[0m\u001b[0midx\u001b[0m \u001b[0;32min\u001b[0m \u001b[0mzip\u001b[0m\u001b[0;34m(\u001b[0m\u001b[0midx_batch\u001b[0m\u001b[0;34m,\u001b[0m\u001b[0mnp\u001b[0m\u001b[0;34m.\u001b[0m\u001b[0msplit\u001b[0m\u001b[0;34m(\u001b[0m\u001b[0midx_k\u001b[0m\u001b[0;34m,\u001b[0m\u001b[0mproportions\u001b[0m\u001b[0;34m)\u001b[0m\u001b[0;34m)\u001b[0m\u001b[0;34m]\u001b[0m\u001b[0;34m\u001b[0m\u001b[0;34m\u001b[0m\u001b[0m\n\u001b[0m\u001b[1;32m     17\u001b[0m     \u001b[0mprint\u001b[0m\u001b[0;34m(\u001b[0m\u001b[0midx_batch\u001b[0m\u001b[0;34m)\u001b[0m\u001b[0;34m\u001b[0m\u001b[0;34m\u001b[0m\u001b[0m\n\u001b[1;32m     18\u001b[0m     \u001b[0mmin_size\u001b[0m \u001b[0;34m=\u001b[0m \u001b[0mmin\u001b[0m\u001b[0;34m(\u001b[0m\u001b[0;34m[\u001b[0m\u001b[0mlen\u001b[0m\u001b[0;34m(\u001b[0m\u001b[0midx_j\u001b[0m\u001b[0;34m)\u001b[0m \u001b[0;32mfor\u001b[0m \u001b[0midx_j\u001b[0m \u001b[0;32min\u001b[0m \u001b[0midx_batch\u001b[0m\u001b[0;34m]\u001b[0m\u001b[0;34m)\u001b[0m\u001b[0;34m\u001b[0m\u001b[0;34m\u001b[0m\u001b[0m\n",
      "\u001b[0;32m<__array_function__ internals>\u001b[0m in \u001b[0;36msplit\u001b[0;34m(*args, **kwargs)\u001b[0m\n",
      "\u001b[0;32m~/opt/anaconda3/lib/python3.9/site-packages/numpy/lib/shape_base.py\u001b[0m in \u001b[0;36msplit\u001b[0;34m(ary, indices_or_sections, axis)\u001b[0m\n\u001b[1;32m    872\u001b[0m             raise ValueError(\n\u001b[1;32m    873\u001b[0m                 'array split does not result in an equal division') from None\n\u001b[0;32m--> 874\u001b[0;31m     \u001b[0;32mreturn\u001b[0m \u001b[0marray_split\u001b[0m\u001b[0;34m(\u001b[0m\u001b[0mary\u001b[0m\u001b[0;34m,\u001b[0m \u001b[0mindices_or_sections\u001b[0m\u001b[0;34m,\u001b[0m \u001b[0maxis\u001b[0m\u001b[0;34m)\u001b[0m\u001b[0;34m\u001b[0m\u001b[0;34m\u001b[0m\u001b[0m\n\u001b[0m\u001b[1;32m    875\u001b[0m \u001b[0;34m\u001b[0m\u001b[0m\n\u001b[1;32m    876\u001b[0m \u001b[0;34m\u001b[0m\u001b[0m\n",
      "\u001b[0;32m<__array_function__ internals>\u001b[0m in \u001b[0;36marray_split\u001b[0;34m(*args, **kwargs)\u001b[0m\n",
      "\u001b[0;32m~/opt/anaconda3/lib/python3.9/site-packages/numpy/lib/shape_base.py\u001b[0m in \u001b[0;36marray_split\u001b[0;34m(ary, indices_or_sections, axis)\u001b[0m\n\u001b[1;32m    788\u001b[0m         \u001b[0mst\u001b[0m \u001b[0;34m=\u001b[0m \u001b[0mdiv_points\u001b[0m\u001b[0;34m[\u001b[0m\u001b[0mi\u001b[0m\u001b[0;34m]\u001b[0m\u001b[0;34m\u001b[0m\u001b[0;34m\u001b[0m\u001b[0m\n\u001b[1;32m    789\u001b[0m         \u001b[0mend\u001b[0m \u001b[0;34m=\u001b[0m \u001b[0mdiv_points\u001b[0m\u001b[0;34m[\u001b[0m\u001b[0mi\u001b[0m \u001b[0;34m+\u001b[0m \u001b[0;36m1\u001b[0m\u001b[0;34m]\u001b[0m\u001b[0;34m\u001b[0m\u001b[0;34m\u001b[0m\u001b[0m\n\u001b[0;32m--> 790\u001b[0;31m         \u001b[0msub_arys\u001b[0m\u001b[0;34m.\u001b[0m\u001b[0mappend\u001b[0m\u001b[0;34m(\u001b[0m\u001b[0m_nx\u001b[0m\u001b[0;34m.\u001b[0m\u001b[0mswapaxes\u001b[0m\u001b[0;34m(\u001b[0m\u001b[0msary\u001b[0m\u001b[0;34m[\u001b[0m\u001b[0mst\u001b[0m\u001b[0;34m:\u001b[0m\u001b[0mend\u001b[0m\u001b[0;34m]\u001b[0m\u001b[0;34m,\u001b[0m \u001b[0maxis\u001b[0m\u001b[0;34m,\u001b[0m \u001b[0;36m0\u001b[0m\u001b[0;34m)\u001b[0m\u001b[0;34m)\u001b[0m\u001b[0;34m\u001b[0m\u001b[0;34m\u001b[0m\u001b[0m\n\u001b[0m\u001b[1;32m    791\u001b[0m \u001b[0;34m\u001b[0m\u001b[0m\n\u001b[1;32m    792\u001b[0m     \u001b[0;32mreturn\u001b[0m \u001b[0msub_arys\u001b[0m\u001b[0;34m\u001b[0m\u001b[0;34m\u001b[0m\u001b[0m\n",
      "\u001b[0;31mTypeError\u001b[0m: slice indices must be integers or None or have an __index__ method"
     ]
    }
   ],
   "source": [
    "targets = [1,2,3,4,2,3,4,2,34,45,2,34,45,2,23,4,5,2,2,34,4,2]\n",
    "N = len(targets)\n",
    "n_nets = 10\n",
    "idx_batch  = [[] for _ in range(n_nets)]\n",
    "K = 5\n",
    "for k in range(K):\n",
    "    idx_k = np.where(targets == 2)[0]\n",
    "    np.random.shuffle(idx_k)\n",
    "    proportions = np.random.dirichlet(np.repeat(0.1, n_nets))\n",
    "    print(proportions)\n",
    "    print(proportions.sum())\n",
    "    ## Balance\n",
    "    proportions = np.array([p*(len(idx_j)<N/n_nets) for p,idx_j in zip(proportions,idx_batch)])\n",
    "    print(proportions)\n",
    "    print(proportions.sum())\n",
    "    idx_batch = [idx_j + idx.tolist() for idx_j,idx in zip(idx_batch,np.split(idx_k,proportions))]\n",
    "    print(idx_batch)\n",
    "    min_size = min([len(idx_j) for idx_j in idx_batch])\n",
    "    print(min_size)\n",
    "\n"
   ]
  },
  {
   "cell_type": "code",
   "execution_count": 31,
   "id": "118faa25",
   "metadata": {},
   "outputs": [
    {
     "data": {
      "text/plain": [
       "array([1.00394852e-01, 4.17641803e-07, 9.80955056e-06, 1.18746382e-04,\n",
       "       4.14780998e-05, 3.20592552e-01, 6.21527272e-13, 1.41117856e-01,\n",
       "       2.45395506e-05, 4.37699748e-01])"
      ]
     },
     "execution_count": 31,
     "metadata": {},
     "output_type": "execute_result"
    }
   ],
   "source": [
    "proportions"
   ]
  },
  {
   "cell_type": "code",
   "execution_count": 48,
   "id": "8ddc139a",
   "metadata": {},
   "outputs": [
    {
     "name": "stdout",
     "output_type": "stream",
     "text": [
      "25\n",
      "[2, 7, 20]\n"
     ]
    },
    {
     "data": {
      "text/plain": [
       "[array([1, 2]),\n",
       " array([3, 4, 5, 6, 7]),\n",
       " array([8, 9, 1, 2, 3, 4, 1, 2, 3, 4, 1, 2, 3]),\n",
       " array([4, 1, 2, 3, 4])]"
      ]
     },
     "execution_count": 48,
     "metadata": {},
     "output_type": "execute_result"
    }
   ],
   "source": [
    "p = [0.1,0.2,0.5,0.2]\n",
    "p = np.cumsum(p)\n",
    "data = [1,2,3,4,5,6,7,8,9,1,2,3,4,1,2,3,4,1,2,3,4,1,2,3,4]\n",
    "print(len(data))\n",
    "threshold = [int(len(data)*t) for t in p][:-1]\n",
    "print(threshold)\n",
    "\n",
    "np.split(data,threshold)"
   ]
  },
  {
   "cell_type": "code",
   "execution_count": 49,
   "id": "079dfe38",
   "metadata": {},
   "outputs": [
    {
     "data": {
      "text/plain": [
       "array([0.1, 0.1, 0.1, 0.1, 0.1, 0.1, 0.1, 0.1, 0.1, 0.1])"
      ]
     },
     "execution_count": 49,
     "metadata": {},
     "output_type": "execute_result"
    }
   ],
   "source": [
    "np.repeat(0.1, 10)"
   ]
  },
  {
   "cell_type": "code",
   "execution_count": 170,
   "id": "cccdd88c",
   "metadata": {},
   "outputs": [],
   "source": [
    "config = {\n",
    "\t'T' : 1000,\n",
    "\t'n' : 19,\n",
    "\t'f': 4,\n",
    "\t'lr' : 0.1,\n",
    "\t'milestones' : [600,800,900],\n",
    "\t'gamma' : 0.2,\n",
    "\t'dataset' : 'gaussians',\n",
    "\t'alpha' : 0.1,\n",
    "\t'ecart': 10,\n",
    "\t'nb_classes' : 6,\n",
    "\t'attack' : 'SF',\n",
    "\t'agg' : 'trmean',\n",
    "\t'optim' : 'gd',\n",
    "\t# 'lbdas' : [0],\n",
    "\t# 'lbdas' : [0]+[1e-5 * 1.1**i for i in range(10)],\n",
    "\t'lbdas' : [0, 1e-5, 5e-5, 1e-4, 5e-4, 1e-3, 5e-3, 1e-2, 5e-2, 1e-1, 5e-1,1,2,4,5,8,10,12,15,18,22,25],\n",
    "\t'batch_size' : -1,\n",
    "\t'model' : 'logistic_gaussian',\n",
    "\t'device' : 'cpu', \n",
    "\t'nb_run' : 10, \n",
    "\t'seed' : 1\n",
    "}\n",
    "\n",
    "config['nb_honest'] = config['n'] - config['f']"
   ]
  },
  {
   "cell_type": "code",
   "execution_count": 190,
   "id": "8fdf495b",
   "metadata": {},
   "outputs": [
    {
     "name": "stdout",
     "output_type": "stream",
     "text": [
      "[222, 37, 5, 9, 239, 1, 45, 469, 76, 138, 41, 10, 24, 189, 6, 37, 232, 1, 19]\n",
      "1\n",
      "222\n",
      "37\n",
      "5\n",
      "9\n",
      "239\n",
      "1\n",
      "45\n",
      "469\n",
      "76\n",
      "138\n",
      "41\n",
      "10\n",
      "24\n",
      "189\n",
      "6\n",
      "37\n",
      "232\n",
      "1\n",
      "19\n"
     ]
    }
   ],
   "source": [
    "import torch\n",
    "nb_classes = 6\n",
    "nb_workers = 19\n",
    "gradient_descent = True\n",
    "\n",
    "dataset = Dataset.Gaussians(root='./data', nb_classes=nb_classes, train=True, ecart = 10)\n",
    "targets = dataset.targets.numpy()\n",
    "\n",
    "p = np.cumsum(np.random.dirichlet(np.repeat(0.1, nb_workers), size=nb_classes), axis=1)[:,:-1]\n",
    "idx = [np.where(targets == k)[0] for k in range(nb_classes)]\n",
    "idx = [np.split(idx[k], (p[k]*len(idx[k])).astype(int)) for k in range(nb_classes)]\n",
    "print([len(np.concatenate([idx[i][j] for i in range(nb_classes)])) for j in range(nb_workers)])\n",
    "print(np.min([len(np.concatenate([idx[i][j] for i in range(nb_classes)])) for j in range(nb_workers)]))\n",
    "print('---------')\n",
    "dataset_dict = {}\n",
    "for w in range(nb_workers):\n",
    "    workers_indices = np.concatenate([idx[k][w] for k in range(nb_classes)])\n",
    "    print(len(workers_indices))\n",
    "    worker_dataset = torch.utils.data.Subset(dataset, workers_indices.tolist())\n",
    "    if gradient_descent:\n",
    "        batch_size = len(workers_indices)\n",
    "    dataset_dict[w] = torch.utils.data.DataLoader(worker_dataset, batch_size=batch_size, shuffle=True)"
   ]
  },
  {
   "cell_type": "code",
   "execution_count": 155,
   "id": "0812fa23",
   "metadata": {
    "scrolled": true
   },
   "outputs": [
    {
     "name": "stdout",
     "output_type": "stream",
     "text": [
      "47\n",
      "278\n",
      "59\n",
      "470\n",
      "280\n",
      "91\n",
      "4\n",
      "84\n",
      "259\n",
      "228\n"
     ]
    },
    {
     "data": {
      "image/png": "[encoded data removed]",
      "text/plain": [
       "<Figure size 640x480 with 1 Axes>"
      ]
     },
     "metadata": {},
     "output_type": "display_data"
    }
   ],
   "source": [
    "for i in range(len(dataset_dict)):\n",
    "    train_dataset_worker = next(iter(dataset_dict[i]))\n",
    "    print(len(train_dataset_worker[0]))\n",
    "    plt.plot(train_dataset_worker[0][:,0], train_dataset_worker[0][:,1], '.', color='C'+str(i))\n"
   ]
  },
  {
   "cell_type": "code",
   "execution_count": 148,
   "id": "cb1344e6",
   "metadata": {},
   "outputs": [
    {
     "data": {
      "text/plain": [
       "[<matplotlib.lines.Line2D at 0x7fb8c0b50f10>]"
      ]
     },
     "execution_count": 148,
     "metadata": {},
     "output_type": "execute_result"
    },
    {
     "data": {
      "image/png": "[encoded data removed]",
      "text/plain": [
       "<Figure size 640x480 with 1 Axes>"
      ]
     },
     "metadata": {},
     "output_type": "display_data"
    }
   ],
   "source": [
    "train_dataset_worker = next(iter(dataset_dict[0]))\n",
    "plt.plot(train_dataset_worker[0][:,0], train_dataset_worker[0][:,1], '.', color='C'+str(0))\n"
   ]
  },
  {
   "cell_type": "code",
   "execution_count": 150,
   "id": "ef7a3794",
   "metadata": {},
   "outputs": [
    {
     "data": {
      "text/plain": [
       "[<matplotlib.lines.Line2D at 0x7fb88018d070>]"
      ]
     },
     "execution_count": 150,
     "metadata": {},
     "output_type": "execute_result"
    },
    {
     "data": {
      "image/png": "[encoded data removed]",
      "text/plain": [
       "<Figure size 640x480 with 1 Axes>"
      ]
     },
     "metadata": {},
     "output_type": "display_data"
    }
   ],
   "source": [
    "train_dataset_worker = next(iter(dataset_dict[1]))\n",
    "plt.plot(train_dataset_worker[0][:,0], train_dataset_worker[0][:,1], '.', color='C'+str(1))\n"
   ]
  },
  {
   "cell_type": "code",
   "execution_count": null,
   "id": "92daa613",
   "metadata": {},
   "outputs": [],
   "source": []
  },
  {
   "cell_type": "code",
   "execution_count": null,
   "id": "6478a024",
   "metadata": {},
   "outputs": [],
   "source": []
  },
  {
   "cell_type": "code",
   "execution_count": null,
   "id": "35bf7ce3",
   "metadata": {},
   "outputs": [],
   "source": []
  },
  {
   "cell_type": "code",
   "execution_count": null,
   "id": "a75742fe",
   "metadata": {},
   "outputs": [],
   "source": []
  },
  {
   "cell_type": "code",
   "execution_count": null,
   "id": "c42c26ac",
   "metadata": {},
   "outputs": [],
   "source": []
  },
  {
   "cell_type": "code",
   "execution_count": null,
   "id": "d3559168",
   "metadata": {},
   "outputs": [],
   "source": []
  },
  {
   "cell_type": "code",
   "execution_count": null,
   "id": "c9c4bed8",
   "metadata": {},
   "outputs": [],
   "source": []
  },
  {
   "cell_type": "code",
   "execution_count": null,
   "id": "e3d68b61",
   "metadata": {},
   "outputs": [],
   "source": []
  },
  {
   "cell_type": "code",
   "execution_count": null,
   "id": "aa253126",
   "metadata": {},
   "outputs": [],
   "source": []
  },
  {
   "cell_type": "code",
   "execution_count": 105,
   "id": "f222e0d5",
   "metadata": {},
   "outputs": [
    {
     "name": "stdout",
     "output_type": "stream",
     "text": [
      "tensor([0, 1, 2, 3, 4, 5, 6, 7, 8, 9])\n",
      "(tensor([0, 1]), tensor([2, 3]), tensor([4, 5]), tensor([6, 7]), tensor([8, 9]))\n",
      "(tensor([0]), tensor([1, 2]), tensor([3, 4, 5]), tensor([6, 7, 8, 9]))\n"
     ]
    }
   ],
   "source": [
    "a = torch.arange(10)\n",
    "b = torch.split(a, 2)\n",
    "c = torch.split(a,[1,2,3,4])\n",
    "\n",
    "print(a)\n",
    "print(b)\n",
    "print(c)"
   ]
  },
  {
   "cell_type": "code",
   "execution_count": 97,
   "id": "f737c510",
   "metadata": {},
   "outputs": [
    {
     "ename": "TypeError",
     "evalue": "only size-1 arrays can be converted to Python scalars",
     "output_type": "error",
     "traceback": [
      "\u001b[0;31m---------------------------------------------------------------------------\u001b[0m",
      "\u001b[0;31mTypeError\u001b[0m                                 Traceback (most recent call last)",
      "\u001b[0;32m/var/folders/wj/2qgpd9jx17zb6tzj9wqndrq00000gn/T/ipykernel_9344/2859510619.py\u001b[0m in \u001b[0;36m<module>\u001b[0;34m\u001b[0m\n\u001b[0;32m----> 1\u001b[0;31m \u001b[0mint\u001b[0m\u001b[0;34m(\u001b[0m\u001b[0mnp\u001b[0m\u001b[0;34m.\u001b[0m\u001b[0marray\u001b[0m\u001b[0;34m(\u001b[0m\u001b[0;34m[\u001b[0m\u001b[0;36m1.2\u001b[0m\u001b[0;34m,\u001b[0m\u001b[0;36m2\u001b[0m\u001b[0;34m]\u001b[0m\u001b[0;34m)\u001b[0m\u001b[0;34m)\u001b[0m\u001b[0;34m\u001b[0m\u001b[0;34m\u001b[0m\u001b[0m\n\u001b[0m",
      "\u001b[0;31mTypeError\u001b[0m: only size-1 arrays can be converted to Python scalars"
     ]
    }
   ],
   "source": [
    "int(np.array([1.2,2]))"
   ]
  },
  {
   "cell_type": "code",
   "execution_count": 129,
   "id": "9c7a1b9d",
   "metadata": {},
   "outputs": [
    {
     "data": {
      "text/plain": [
       "array([5, 6])"
      ]
     },
     "execution_count": 129,
     "metadata": {},
     "output_type": "execute_result"
    }
   ],
   "source": [
    "a = np.array([1,2,3,4])\n",
    "b = np.array([5, 6])\n",
    "np.concatenate((a, b))\n",
    "b"
   ]
  },
  {
   "cell_type": "code",
   "execution_count": 134,
   "id": "d3a9e4d6",
   "metadata": {},
   "outputs": [
    {
     "data": {
      "text/plain": [
       "1800"
      ]
     },
     "execution_count": 134,
     "metadata": {},
     "output_type": "execute_result"
    }
   ],
   "source": [
    "19+323+212+430+816"
   ]
  },
  {
   "cell_type": "code",
   "execution_count": null,
   "id": "b0a19756",
   "metadata": {},
   "outputs": [],
   "source": []
  }
 ],
 "metadata": {
  "kernelspec": {
   "display_name": "Python 3 (ipykernel)",
   "language": "python",
   "name": "python3"
  },
  "language_info": {
   "codemirror_mode": {
    "name": "ipython",
    "version": 3
   },
   "file_extension": ".py",
   "mimetype": "text/x-python",
   "name": "python",
   "nbconvert_exporter": "python",
   "pygments_lexer": "ipython3",
   "version": "3.9.13"
  }
 },
 "nbformat": 4,
 "nbformat_minor": 5
}
