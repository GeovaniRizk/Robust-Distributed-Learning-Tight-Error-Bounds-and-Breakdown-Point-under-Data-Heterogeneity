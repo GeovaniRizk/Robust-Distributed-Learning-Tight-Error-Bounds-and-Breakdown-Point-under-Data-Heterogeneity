{
 "cells": [
  {
   "cell_type": "code",
   "execution_count": null,
   "id": "af6216b4",
   "metadata": {},
   "outputs": [],
   "source": [
    "import numpy as np\n",
    "import torch\n",
    "import matplotlib.pyplot as plt\n",
    "import csv\n",
    "import os\n",
    "from os import listdir\n",
    "from numpy import genfromtxt\n",
    "import numpy.linalg as LA\n",
    "from matplotlib.colors import BoundaryNorm\n",
    "from matplotlib.ticker import MaxNLocator\n",
    "import matplotlib as mpl\n",
    "plt.rcParams.update({'font.size': 12})\n",
    "\n",
    "tab_f = [0, 1]\n",
    "tab_attack = ['SF', 'FOE', 'ALIE', 'mimic']\n",
    "tab_attack_name = ['SF', 'FOE', 'ALIE', 'Mimic']\n",
    "tab_sign = ['-', '--', '-.', ':']\n",
    "colors = [(0, 0.4470, 0.7410), (0.8500, 0.3250, 0.0980), (0.4660, 0.6740, 0.1880), (60/255,60/255, 60/255)]\n",
    "nb_runs = 5\n",
    "\n",
    "\n",
    "tab_losses = np.zeros((len(tab_f), len(tab_attack), 40001))\n",
    "for i, f in enumerate(tab_f):\n",
    "    for j, attack in enumerate(tab_attack):\n",
    "        tab_losses[i][j] = genfromtxt('./save_fig1/Losses_'+str(f)+'_'+attack+'.csv', delimiter=',')\n",
    "        if f == 0:\n",
    "            break\n",
    "\n",
    "for a, f in enumerate(tab_f):    \n",
    "    for b in range(len(tab_attack)):\n",
    "        if f == 0:\n",
    "            plt.plot(np.arange(len(tab_losses[a][b])), tab_losses[a][b], marker = '*', markersize=10, markevery=5000, label='f = 0', linestyle = tab_sign[b], color='black', linewidth=2)\n",
    "            break\n",
    "        else:\n",
    "            plt.plot(np.arange(len(tab_losses[a][b])), tab_losses[a][b], label='f = 3 ; '+tab_attack_name[b], linestyle = tab_sign[b], color=colors[b], linewidth=2)\n",
    "\n",
    "plt.grid()\n",
    "plt.legend()\n",
    "plt.xlabel('Steps')\n",
    "plt.xlim(0,40000)\n",
    "\n",
    "plt.ylabel('Training Loss')\n",
    "plt.ticklabel_format(style='sci', axis='x', scilimits=(0,0))\n",
    "plt.savefig('Loss_wrt_attack_8_workers_1_byz.pdf')"
   ]
  },
  {
   "cell_type": "code",
   "execution_count": null,
   "id": "2881015e",
   "metadata": {},
   "outputs": [],
   "source": [
    "def loss_function(theta, X, y, lbda):\n",
    "    return LA.norm(X@theta - np.reshape(y, (-1,1)))**2/(2*len(X)) + lbda * LA.norm(theta)**2/2\n",
    "\n",
    "def grad_function(theta, X, y, lbda):\n",
    "    return np.reshape((X.T @ X /len(X) + config['lbda'] * np.eye(d)) @  theta, (-1,1)) - (X.T @ np.reshape(y, (-1,1)))/len(X)\n"
   ]
  },
  {
   "cell_type": "code",
   "execution_count": null,
   "id": "7f74aa58",
   "metadata": {},
   "outputs": [],
   "source": [
    "theta_star = genfromtxt('./save_fig1/theta_star.csv', delimiter=',')\n",
    "train_x = genfromtxt('./save_fig1/train_x.csv', delimiter=',')\n",
    "train_y = genfromtxt('./save_fig1/train_y.csv', delimiter=',')\n",
    "parameters = genfromtxt('./save_fig1/Parameters_0_SF.csv', delimiter=',')\n",
    "parameters1 = genfromtxt('./save_fig1/Parameters_1_SF.csv', delimiter=',')\n",
    "parameters2 = genfromtxt('./save_fig1/Parameters_1_FOE.csv', delimiter=',')\n",
    "parameters3 = genfromtxt('./save_fig1/Parameters_1_ALIE.csv', delimiter=',')\n",
    "parameters4 = genfromtxt('./save_fig1/Parameters_1_mimic.csv', delimiter=',')\n"
   ]
  },
  {
   "cell_type": "code",
   "execution_count": null,
   "id": "51d048d2",
   "metadata": {},
   "outputs": [],
   "source": [
    "x_window = 0.7\n",
    "y_window = 0.05\n",
    "\n",
    "x_start = theta_star[0] - x_window\n",
    "x_finish = theta_star[0] + 0.3\n",
    "y_start = -0.02\n",
    "y_finish = theta_star[1] + y_window"
   ]
  },
  {
   "cell_type": "code",
   "execution_count": null,
   "id": "3b504d22",
   "metadata": {},
   "outputs": [],
   "source": [
    "x = np.linspace(x_start, x_finish, 100)\n",
    "y = np.linspace(y_start, y_finish, 100)\n",
    "\n",
    "\n",
    "x_, y_ = np.meshgrid(x, y)"
   ]
  },
  {
   "cell_type": "code",
   "execution_count": null,
   "id": "148462b8",
   "metadata": {},
   "outputs": [],
   "source": [
    "z = [[loss_function(np.array([[x[i]],[y[j]]]), train_x, train_y, 1/np.sqrt(7)) for i in range(len(x))] for j in range(len(y))]"
   ]
  },
  {
   "cell_type": "code",
   "execution_count": null,
   "id": "0d576ab5",
   "metadata": {},
   "outputs": [],
   "source": [
    "z = np.array(z)"
   ]
  },
  {
   "cell_type": "code",
   "execution_count": null,
   "id": "2a04103a",
   "metadata": {},
   "outputs": [],
   "source": [
    "origin = 'lower'\n",
    "fig1, ax2 = plt.subplots()\n",
    "CS = ax2.contourf(x_, y_, z, 20, origin=origin, colors = 'white')\n",
    "\n",
    "CS2 = ax2.contour(CS, levels=CS.levels[::2], colors='grey', origin=origin, linewidths=0.5)\n",
    "\n",
    "cbar.ax.set_ylabel('verbosity coefficient')\n",
    "\n",
    "plt.plot(theta_star[0], theta_star[1], marker = '.', color = 'red', markersize=10)\n",
    "\n",
    "plt.plot(parameters[:,0], parameters[:,1], linewidth=2, linestyle='-', color = 'black', label = 'f = 0')\n",
    "plt.plot(parameters1[:,0], parameters1[:,1], linewidth=2, linestyle=tab_sign[0], color = colors[0], label='f = 3 ; '+tab_attack_name[0])\n",
    "plt.plot(parameters2[:,0], parameters2[:,1], linewidth=2, linestyle=tab_sign[1], color = colors[1], label='f = 3 ; '+tab_attack_name[1])\n",
    "plt.plot(parameters3[:,0], parameters3[:,1], linewidth=2, linestyle=tab_sign[2], color = colors[2], label='f = 3 ; '+tab_attack_name[2])\n",
    "plt.plot(parameters4[:,0], parameters4[:,1], linewidth=2, linestyle=tab_sign[3], color = colors[3], label='f = 3 ; '+tab_attack_name[3])\n",
    "\n",
    "plt.legend(loc='lower right')\n",
    "plt.savefig('convergence.pdf')"
   ]
  }
 ],
 "metadata": {
  "kernelspec": {
   "display_name": "Python 3 (ipykernel)",
   "language": "python",
   "name": "python3"
  },
  "language_info": {
   "codemirror_mode": {
    "name": "ipython",
    "version": 3
   },
   "file_extension": ".py",
   "mimetype": "text/x-python",
   "name": "python",
   "nbconvert_exporter": "python",
   "pygments_lexer": "ipython3",
   "version": "3.9.13"
  }
 },
 "nbformat": 4,
 "nbformat_minor": 5
}
